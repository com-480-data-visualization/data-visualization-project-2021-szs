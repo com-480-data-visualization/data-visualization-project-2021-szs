{
 "cells": [
  {
   "cell_type": "markdown",
   "metadata": {},
   "source": [
    "# Data exploratory\n",
    "In this section, we do analysis on our soccer dataset from the league, team and player point of view, and make appropriate plots to get insight into it."
   ]
  },
  {
   "cell_type": "markdown",
   "metadata": {},
   "source": [
    "First, we load the data from the web."
   ]
  },
  {
   "cell_type": "code",
   "execution_count": 1,
   "metadata": {},
   "outputs": [],
   "source": [
    "import math\n",
    "import numpy as np\n",
    "import pandas as pd\n",
    "import sqlite3 as sql\n",
    "import matplotlib.pyplot as plt\n",
    "import warnings\n",
    "warnings.filterwarnings(\"ignore\")"
   ]
  },
  {
   "cell_type": "code",
   "execution_count": 2,
   "metadata": {},
   "outputs": [
    {
     "data": {
      "text/html": [
       "<div>\n",
       "<style scoped>\n",
       "    .dataframe tbody tr th:only-of-type {\n",
       "        vertical-align: middle;\n",
       "    }\n",
       "\n",
       "    .dataframe tbody tr th {\n",
       "        vertical-align: top;\n",
       "    }\n",
       "\n",
       "    .dataframe thead th {\n",
       "        text-align: right;\n",
       "    }\n",
       "</style>\n",
       "<table border=\"1\" class=\"dataframe\">\n",
       "  <thead>\n",
       "    <tr style=\"text-align: right;\">\n",
       "      <th></th>\n",
       "      <th>type</th>\n",
       "      <th>name</th>\n",
       "      <th>tbl_name</th>\n",
       "      <th>rootpage</th>\n",
       "      <th>sql</th>\n",
       "    </tr>\n",
       "  </thead>\n",
       "  <tbody>\n",
       "    <tr>\n",
       "      <th>0</th>\n",
       "      <td>table</td>\n",
       "      <td>sqlite_sequence</td>\n",
       "      <td>sqlite_sequence</td>\n",
       "      <td>4</td>\n",
       "      <td>CREATE TABLE sqlite_sequence(name,seq)</td>\n",
       "    </tr>\n",
       "    <tr>\n",
       "      <th>1</th>\n",
       "      <td>table</td>\n",
       "      <td>Player_Attributes</td>\n",
       "      <td>Player_Attributes</td>\n",
       "      <td>11</td>\n",
       "      <td>CREATE TABLE \"Player_Attributes\" (\\n\\t`id`\\tIN...</td>\n",
       "    </tr>\n",
       "    <tr>\n",
       "      <th>2</th>\n",
       "      <td>table</td>\n",
       "      <td>Player</td>\n",
       "      <td>Player</td>\n",
       "      <td>14</td>\n",
       "      <td>CREATE TABLE `Player` (\\n\\t`id`\\tINTEGER PRIMA...</td>\n",
       "    </tr>\n",
       "    <tr>\n",
       "      <th>3</th>\n",
       "      <td>table</td>\n",
       "      <td>Match</td>\n",
       "      <td>Match</td>\n",
       "      <td>18</td>\n",
       "      <td>CREATE TABLE `Match` (\\n\\t`id`\\tINTEGER PRIMAR...</td>\n",
       "    </tr>\n",
       "    <tr>\n",
       "      <th>4</th>\n",
       "      <td>table</td>\n",
       "      <td>League</td>\n",
       "      <td>League</td>\n",
       "      <td>24</td>\n",
       "      <td>CREATE TABLE `League` (\\n\\t`id`\\tINTEGER PRIMA...</td>\n",
       "    </tr>\n",
       "    <tr>\n",
       "      <th>5</th>\n",
       "      <td>table</td>\n",
       "      <td>Country</td>\n",
       "      <td>Country</td>\n",
       "      <td>26</td>\n",
       "      <td>CREATE TABLE `Country` (\\n\\t`id`\\tINTEGER PRIM...</td>\n",
       "    </tr>\n",
       "    <tr>\n",
       "      <th>6</th>\n",
       "      <td>table</td>\n",
       "      <td>Team</td>\n",
       "      <td>Team</td>\n",
       "      <td>29</td>\n",
       "      <td>CREATE TABLE \"Team\" (\\n\\t`id`\\tINTEGER PRIMARY...</td>\n",
       "    </tr>\n",
       "    <tr>\n",
       "      <th>7</th>\n",
       "      <td>table</td>\n",
       "      <td>Team_Attributes</td>\n",
       "      <td>Team_Attributes</td>\n",
       "      <td>2</td>\n",
       "      <td>CREATE TABLE `Team_Attributes` (\\n\\t`id`\\tINTE...</td>\n",
       "    </tr>\n",
       "  </tbody>\n",
       "</table>\n",
       "</div>"
      ],
      "text/plain": [
       "    type               name           tbl_name  rootpage  \\\n",
       "0  table    sqlite_sequence    sqlite_sequence         4   \n",
       "1  table  Player_Attributes  Player_Attributes        11   \n",
       "2  table             Player             Player        14   \n",
       "3  table              Match              Match        18   \n",
       "4  table             League             League        24   \n",
       "5  table            Country            Country        26   \n",
       "6  table               Team               Team        29   \n",
       "7  table    Team_Attributes    Team_Attributes         2   \n",
       "\n",
       "                                                 sql  \n",
       "0             CREATE TABLE sqlite_sequence(name,seq)  \n",
       "1  CREATE TABLE \"Player_Attributes\" (\\n\\t`id`\\tIN...  \n",
       "2  CREATE TABLE `Player` (\\n\\t`id`\\tINTEGER PRIMA...  \n",
       "3  CREATE TABLE `Match` (\\n\\t`id`\\tINTEGER PRIMAR...  \n",
       "4  CREATE TABLE `League` (\\n\\t`id`\\tINTEGER PRIMA...  \n",
       "5  CREATE TABLE `Country` (\\n\\t`id`\\tINTEGER PRIM...  \n",
       "6  CREATE TABLE \"Team\" (\\n\\t`id`\\tINTEGER PRIMARY...  \n",
       "7  CREATE TABLE `Team_Attributes` (\\n\\t`id`\\tINTE...  "
      ]
     },
     "execution_count": 2,
     "metadata": {},
     "output_type": "execute_result"
    }
   ],
   "source": [
    "database = sql.connect(\"database.sqlite\")\n",
    "tables = pd.read_sql(\"Select * FROM sqlite_master WHERE type = 'table';\", con=database)\n",
    "tables"
   ]
  },
  {
   "cell_type": "code",
   "execution_count": 3,
   "metadata": {},
   "outputs": [],
   "source": [
    "Teams = pd.read_sql(\"SELECT * FROM Team;\", database)\n",
    "teams = pd.read_sql(\"\"\"SELECT team_api_id, team_long_name FROM Team;\"\"\", database)\n",
    "Match = pd.read_sql(\"SELECT * FROM Match;\", database)\n",
    "match = pd.read_sql(\"\"\"SELECT Match.country_id, Match.season, Match.home_team_api_id, Match.away_team_api_id, Match.home_team_goal, Match.away_team_goal\n",
    "                        FROM Match;\"\"\", database)\n",
    "Country = pd.read_sql(\"SELECT * from Country;\", database)\n",
    "Leagues = pd.read_sql(\"SELECT * FROM League;\", database)\n",
    "leagues = pd.read_sql(\"\"\"SELECT Country.id as Country_id, Country.name as Country_name, League.name as League_name\n",
    "                        FROM League\n",
    "                        JOIN Country ON Country.id = League.country_id;\"\"\", database)"
   ]
  },
  {
   "cell_type": "code",
   "execution_count": 4,
   "metadata": {},
   "outputs": [],
   "source": [
    "match = pd.merge(match, teams, left_on='home_team_api_id', right_on='team_api_id')\n",
    "match = pd.merge(match, teams, left_on='away_team_api_id', right_on='team_api_id')\n",
    "match = pd.merge(match, leagues, left_on='country_id', right_on='Country_id')"
   ]
  },
  {
   "cell_type": "markdown",
   "metadata": {},
   "source": [
    "Define \"goal_to_score\" function to calculate the score of each team in one match with goal.\\\n",
    "The team with more goals wins, and the winner gets 3 points and loser gets 0 accordingly. If two teams have same goals, they both get 1 point."
   ]
  },
  {
   "cell_type": "code",
   "execution_count": 5,
   "metadata": {},
   "outputs": [],
   "source": [
    "def goal_to_score(a):\n",
    "    if a > 0:\n",
    "        return 3\n",
    "    elif a == 0:\n",
    "        return 1\n",
    "    else:\n",
    "        return 0"
   ]
  },
  {
   "cell_type": "code",
   "execution_count": 6,
   "metadata": {},
   "outputs": [],
   "source": [
    "data = match.iloc[:, [1, 4, 5, 7, 9, 12]]\n",
    "data['home_team_score'] = (data['home_team_goal']-data['away_team_goal']).map(goal_to_score)\n",
    "data['away_team_score'] = (data['away_team_goal']-data['home_team_goal']).map(goal_to_score)\n",
    "data['W'] = data['away_team_goal'] < data['home_team_goal']\n",
    "data['D'] = data['away_team_goal'] == data['home_team_goal']\n",
    "data['L'] = data['away_team_goal'] > data['home_team_goal']"
   ]
  },
  {
   "cell_type": "markdown",
   "metadata": {},
   "source": [
    "Check if there's any missing data."
   ]
  },
  {
   "cell_type": "code",
   "execution_count": 7,
   "metadata": {},
   "outputs": [
    {
     "data": {
      "text/plain": [
       "season              False\n",
       "home_team_goal      False\n",
       "away_team_goal      False\n",
       "team_long_name_x    False\n",
       "team_long_name_y    False\n",
       "League_name         False\n",
       "home_team_score     False\n",
       "away_team_score     False\n",
       "W                   False\n",
       "D                   False\n",
       "L                   False\n",
       "dtype: bool"
      ]
     },
     "execution_count": 7,
     "metadata": {},
     "output_type": "execute_result"
    }
   ],
   "source": [
    "data.isnull().any()"
   ]
  },
  {
   "cell_type": "markdown",
   "metadata": {},
   "source": [
    "No missing data"
   ]
  },
  {
   "cell_type": "code",
   "execution_count": 8,
   "metadata": {},
   "outputs": [],
   "source": [
    "seasons = data['season'].unique().tolist()\n",
    "leagues_list = leagues['League_name'].unique().tolist()\n",
    "team_list = teams['team_long_name'].unique().tolist()"
   ]
  },
  {
   "cell_type": "markdown",
   "metadata": {},
   "source": [
    "Create a dataframe to show the performance of each participating team along time.\\\n",
    "W: win, D: draw, L: lose, GF: goals for, GA: goals against, Pts: points, GD: goals difference."
   ]
  },
  {
   "cell_type": "code",
   "execution_count": 9,
   "metadata": {},
   "outputs": [
    {
     "data": {
      "text/html": [
       "<div>\n",
       "<style scoped>\n",
       "    .dataframe tbody tr th:only-of-type {\n",
       "        vertical-align: middle;\n",
       "    }\n",
       "\n",
       "    .dataframe tbody tr th {\n",
       "        vertical-align: top;\n",
       "    }\n",
       "\n",
       "    .dataframe thead th {\n",
       "        text-align: right;\n",
       "    }\n",
       "</style>\n",
       "<table border=\"1\" class=\"dataframe\">\n",
       "  <thead>\n",
       "    <tr style=\"text-align: right;\">\n",
       "      <th></th>\n",
       "      <th></th>\n",
       "      <th></th>\n",
       "      <th>W</th>\n",
       "      <th>D</th>\n",
       "      <th>L</th>\n",
       "      <th>GF</th>\n",
       "      <th>GA</th>\n",
       "      <th>Pts</th>\n",
       "      <th>GD</th>\n",
       "    </tr>\n",
       "    <tr>\n",
       "      <th>season</th>\n",
       "      <th>League_name</th>\n",
       "      <th>team_long_name_x</th>\n",
       "      <th></th>\n",
       "      <th></th>\n",
       "      <th></th>\n",
       "      <th></th>\n",
       "      <th></th>\n",
       "      <th></th>\n",
       "      <th></th>\n",
       "    </tr>\n",
       "  </thead>\n",
       "  <tbody>\n",
       "    <tr>\n",
       "      <th rowspan=\"5\" valign=\"top\">2008/2009</th>\n",
       "      <th rowspan=\"5\" valign=\"top\">Belgium Jupiler League</th>\n",
       "      <th>Beerschot AC</th>\n",
       "      <td>11</td>\n",
       "      <td>9</td>\n",
       "      <td>14</td>\n",
       "      <td>44</td>\n",
       "      <td>42</td>\n",
       "      <td>42</td>\n",
       "      <td>2</td>\n",
       "    </tr>\n",
       "    <tr>\n",
       "      <th>Club Brugge KV</th>\n",
       "      <td>18</td>\n",
       "      <td>5</td>\n",
       "      <td>11</td>\n",
       "      <td>59</td>\n",
       "      <td>50</td>\n",
       "      <td>59</td>\n",
       "      <td>9</td>\n",
       "    </tr>\n",
       "    <tr>\n",
       "      <th>FCV Dender EH</th>\n",
       "      <td>9</td>\n",
       "      <td>8</td>\n",
       "      <td>17</td>\n",
       "      <td>44</td>\n",
       "      <td>58</td>\n",
       "      <td>35</td>\n",
       "      <td>-14</td>\n",
       "    </tr>\n",
       "    <tr>\n",
       "      <th>KAA Gent</th>\n",
       "      <td>17</td>\n",
       "      <td>8</td>\n",
       "      <td>9</td>\n",
       "      <td>67</td>\n",
       "      <td>42</td>\n",
       "      <td>59</td>\n",
       "      <td>25</td>\n",
       "    </tr>\n",
       "    <tr>\n",
       "      <th>KRC Genk</th>\n",
       "      <td>15</td>\n",
       "      <td>5</td>\n",
       "      <td>14</td>\n",
       "      <td>48</td>\n",
       "      <td>51</td>\n",
       "      <td>50</td>\n",
       "      <td>-3</td>\n",
       "    </tr>\n",
       "    <tr>\n",
       "      <th>...</th>\n",
       "      <th>...</th>\n",
       "      <th>...</th>\n",
       "      <td>...</td>\n",
       "      <td>...</td>\n",
       "      <td>...</td>\n",
       "      <td>...</td>\n",
       "      <td>...</td>\n",
       "      <td>...</td>\n",
       "      <td>...</td>\n",
       "    </tr>\n",
       "    <tr>\n",
       "      <th rowspan=\"5\" valign=\"top\">2015/2016</th>\n",
       "      <th rowspan=\"5\" valign=\"top\">Switzerland Super League</th>\n",
       "      <th>FC Thun</th>\n",
       "      <td>10</td>\n",
       "      <td>11</td>\n",
       "      <td>15</td>\n",
       "      <td>45</td>\n",
       "      <td>54</td>\n",
       "      <td>41</td>\n",
       "      <td>-9</td>\n",
       "    </tr>\n",
       "    <tr>\n",
       "      <th>FC Vaduz</th>\n",
       "      <td>7</td>\n",
       "      <td>15</td>\n",
       "      <td>14</td>\n",
       "      <td>44</td>\n",
       "      <td>60</td>\n",
       "      <td>36</td>\n",
       "      <td>-16</td>\n",
       "    </tr>\n",
       "    <tr>\n",
       "      <th>FC Zürich</th>\n",
       "      <td>7</td>\n",
       "      <td>13</td>\n",
       "      <td>16</td>\n",
       "      <td>48</td>\n",
       "      <td>71</td>\n",
       "      <td>34</td>\n",
       "      <td>-23</td>\n",
       "    </tr>\n",
       "    <tr>\n",
       "      <th>Grasshopper Club Zürich</th>\n",
       "      <td>15</td>\n",
       "      <td>8</td>\n",
       "      <td>13</td>\n",
       "      <td>65</td>\n",
       "      <td>56</td>\n",
       "      <td>53</td>\n",
       "      <td>9</td>\n",
       "    </tr>\n",
       "    <tr>\n",
       "      <th>Lugano</th>\n",
       "      <td>9</td>\n",
       "      <td>8</td>\n",
       "      <td>19</td>\n",
       "      <td>46</td>\n",
       "      <td>75</td>\n",
       "      <td>35</td>\n",
       "      <td>-29</td>\n",
       "    </tr>\n",
       "  </tbody>\n",
       "</table>\n",
       "<p>1478 rows × 7 columns</p>\n",
       "</div>"
      ],
      "text/plain": [
       "                                                             W   D   L  GF  \\\n",
       "season    League_name              team_long_name_x                          \n",
       "2008/2009 Belgium Jupiler League   Beerschot AC             11   9  14  44   \n",
       "                                   Club Brugge KV           18   5  11  59   \n",
       "                                   FCV Dender EH             9   8  17  44   \n",
       "                                   KAA Gent                 17   8   9  67   \n",
       "                                   KRC Genk                 15   5  14  48   \n",
       "...                                                         ..  ..  ..  ..   \n",
       "2015/2016 Switzerland Super League FC Thun                  10  11  15  45   \n",
       "                                   FC Vaduz                  7  15  14  44   \n",
       "                                   FC Zürich                 7  13  16  48   \n",
       "                                   Grasshopper Club Zürich  15   8  13  65   \n",
       "                                   Lugano                    9   8  19  46   \n",
       "\n",
       "                                                            GA  Pts  GD  \n",
       "season    League_name              team_long_name_x                      \n",
       "2008/2009 Belgium Jupiler League   Beerschot AC             42   42   2  \n",
       "                                   Club Brugge KV           50   59   9  \n",
       "                                   FCV Dender EH            58   35 -14  \n",
       "                                   KAA Gent                 42   59  25  \n",
       "                                   KRC Genk                 51   50  -3  \n",
       "...                                                         ..  ...  ..  \n",
       "2015/2016 Switzerland Super League FC Thun                  54   41  -9  \n",
       "                                   FC Vaduz                 60   36 -16  \n",
       "                                   FC Zürich                71   34 -23  \n",
       "                                   Grasshopper Club Zürich  56   53   9  \n",
       "                                   Lugano                   75   35 -29  \n",
       "\n",
       "[1478 rows x 7 columns]"
      ]
     },
     "execution_count": 9,
     "metadata": {},
     "output_type": "execute_result"
    }
   ],
   "source": [
    "group_1 = data.groupby([\"season\", \"League_name\", \"team_long_name_x\"]).agg('sum')\n",
    "group_2 = data.groupby([\"season\", \"League_name\", \"team_long_name_y\"]).agg('sum')\n",
    "group_list = list(group_2)\n",
    "group_list[0], group_list[1], group_list[2], group_list[3], group_list[4], group_list[5], group_list[6] = group_list[1], group_list[0], group_list[3], group_list[2], group_list[6], group_list[5], group_list[4]\n",
    "group_2.columns = group_list\n",
    "Team_data_all = (group_1 + group_2).iloc[:, [2, 0, 1, 5, 3, 6]].astype(int)\n",
    "Team_data_all.columns = ['W','D','L','GF','GA','Pts']\n",
    "Team_data_all['GD'] = Team_data_all['GF'] - Team_data_all['GA']\n",
    "Team_data_all"
   ]
  },
  {
   "cell_type": "markdown",
   "metadata": {},
   "source": [
    "Number of participating teams of different leagues along time."
   ]
  },
  {
   "cell_type": "code",
   "execution_count": 10,
   "metadata": {},
   "outputs": [
    {
     "data": {
      "text/plain": [
       "season     League_name             \n",
       "2008/2009  Belgium Jupiler League      18\n",
       "           England Premier League      20\n",
       "           France Ligue 1              20\n",
       "           Germany 1. Bundesliga       18\n",
       "           Italy Serie A               20\n",
       "                                       ..\n",
       "2015/2016  Poland Ekstraklasa          16\n",
       "           Portugal Liga ZON Sagres    18\n",
       "           Scotland Premier League     12\n",
       "           Spain LIGA BBVA             20\n",
       "           Switzerland Super League    10\n",
       "Name: team_long_name_x, Length: 88, dtype: int64"
      ]
     },
     "execution_count": 10,
     "metadata": {},
     "output_type": "execute_result"
    }
   ],
   "source": [
    "participating = data.groupby([\"season\", \"League_name\"]).agg('nunique')[\"team_long_name_x\"]\n",
    "participating"
   ]
  },
  {
   "cell_type": "markdown",
   "metadata": {},
   "source": [
    "View the team ranking of a year in league (ascending by Pts)"
   ]
  },
  {
   "cell_type": "code",
   "execution_count": 11,
   "metadata": {},
   "outputs": [
    {
     "data": {
      "text/html": [
       "<div>\n",
       "<style scoped>\n",
       "    .dataframe tbody tr th:only-of-type {\n",
       "        vertical-align: middle;\n",
       "    }\n",
       "\n",
       "    .dataframe tbody tr th {\n",
       "        vertical-align: top;\n",
       "    }\n",
       "\n",
       "    .dataframe thead th {\n",
       "        text-align: right;\n",
       "    }\n",
       "</style>\n",
       "<table border=\"1\" class=\"dataframe\">\n",
       "  <thead>\n",
       "    <tr style=\"text-align: right;\">\n",
       "      <th></th>\n",
       "      <th>W</th>\n",
       "      <th>D</th>\n",
       "      <th>L</th>\n",
       "      <th>GF</th>\n",
       "      <th>GA</th>\n",
       "      <th>Pts</th>\n",
       "      <th>GD</th>\n",
       "    </tr>\n",
       "    <tr>\n",
       "      <th>team_long_name_x</th>\n",
       "      <th></th>\n",
       "      <th></th>\n",
       "      <th></th>\n",
       "      <th></th>\n",
       "      <th></th>\n",
       "      <th></th>\n",
       "      <th></th>\n",
       "    </tr>\n",
       "  </thead>\n",
       "  <tbody>\n",
       "    <tr>\n",
       "      <th>FC Barcelona</th>\n",
       "      <td>27</td>\n",
       "      <td>6</td>\n",
       "      <td>5</td>\n",
       "      <td>105</td>\n",
       "      <td>35</td>\n",
       "      <td>87</td>\n",
       "      <td>70</td>\n",
       "    </tr>\n",
       "    <tr>\n",
       "      <th>Real Madrid CF</th>\n",
       "      <td>25</td>\n",
       "      <td>3</td>\n",
       "      <td>10</td>\n",
       "      <td>83</td>\n",
       "      <td>52</td>\n",
       "      <td>78</td>\n",
       "      <td>31</td>\n",
       "    </tr>\n",
       "    <tr>\n",
       "      <th>Sevilla FC</th>\n",
       "      <td>21</td>\n",
       "      <td>7</td>\n",
       "      <td>10</td>\n",
       "      <td>54</td>\n",
       "      <td>39</td>\n",
       "      <td>70</td>\n",
       "      <td>15</td>\n",
       "    </tr>\n",
       "    <tr>\n",
       "      <th>Atlético Madrid</th>\n",
       "      <td>20</td>\n",
       "      <td>7</td>\n",
       "      <td>11</td>\n",
       "      <td>80</td>\n",
       "      <td>57</td>\n",
       "      <td>67</td>\n",
       "      <td>23</td>\n",
       "    </tr>\n",
       "    <tr>\n",
       "      <th>Villarreal CF</th>\n",
       "      <td>18</td>\n",
       "      <td>11</td>\n",
       "      <td>9</td>\n",
       "      <td>61</td>\n",
       "      <td>54</td>\n",
       "      <td>65</td>\n",
       "      <td>7</td>\n",
       "    </tr>\n",
       "  </tbody>\n",
       "</table>\n",
       "</div>"
      ],
      "text/plain": [
       "                   W   D   L   GF  GA  Pts  GD\n",
       "team_long_name_x                              \n",
       "FC Barcelona      27   6   5  105  35   87  70\n",
       "Real Madrid CF    25   3  10   83  52   78  31\n",
       "Sevilla FC        21   7  10   54  39   70  15\n",
       "Atlético Madrid   20   7  11   80  57   67  23\n",
       "Villarreal CF     18  11   9   61  54   65   7"
      ]
     },
     "execution_count": 11,
     "metadata": {},
     "output_type": "execute_result"
    }
   ],
   "source": [
    "Team_data_all.loc[(seasons[0], leagues_list[9])].sort_values(by='Pts', ascending=False, na_position='first').head()"
   ]
  },
  {
   "cell_type": "markdown",
   "metadata": {},
   "source": [
    "View the historical Pts of a team"
   ]
  },
  {
   "cell_type": "code",
   "execution_count": 12,
   "metadata": {},
   "outputs": [
    {
     "data": {
      "text/html": [
       "<div>\n",
       "<style scoped>\n",
       "    .dataframe tbody tr th:only-of-type {\n",
       "        vertical-align: middle;\n",
       "    }\n",
       "\n",
       "    .dataframe tbody tr th {\n",
       "        vertical-align: top;\n",
       "    }\n",
       "\n",
       "    .dataframe thead th {\n",
       "        text-align: right;\n",
       "    }\n",
       "</style>\n",
       "<table border=\"1\" class=\"dataframe\">\n",
       "  <thead>\n",
       "    <tr style=\"text-align: right;\">\n",
       "      <th></th>\n",
       "      <th></th>\n",
       "      <th>W</th>\n",
       "      <th>D</th>\n",
       "      <th>L</th>\n",
       "      <th>GF</th>\n",
       "      <th>GA</th>\n",
       "      <th>Pts</th>\n",
       "      <th>GD</th>\n",
       "    </tr>\n",
       "    <tr>\n",
       "      <th>season</th>\n",
       "      <th>League_name</th>\n",
       "      <th></th>\n",
       "      <th></th>\n",
       "      <th></th>\n",
       "      <th></th>\n",
       "      <th></th>\n",
       "      <th></th>\n",
       "      <th></th>\n",
       "    </tr>\n",
       "  </thead>\n",
       "  <tbody>\n",
       "    <tr>\n",
       "      <th>2008/2009</th>\n",
       "      <th>England Premier League</th>\n",
       "      <td>25</td>\n",
       "      <td>11</td>\n",
       "      <td>2</td>\n",
       "      <td>77</td>\n",
       "      <td>27</td>\n",
       "      <td>86</td>\n",
       "      <td>50</td>\n",
       "    </tr>\n",
       "    <tr>\n",
       "      <th>2009/2010</th>\n",
       "      <th>England Premier League</th>\n",
       "      <td>18</td>\n",
       "      <td>9</td>\n",
       "      <td>11</td>\n",
       "      <td>61</td>\n",
       "      <td>35</td>\n",
       "      <td>63</td>\n",
       "      <td>26</td>\n",
       "    </tr>\n",
       "    <tr>\n",
       "      <th>2010/2011</th>\n",
       "      <th>England Premier League</th>\n",
       "      <td>17</td>\n",
       "      <td>7</td>\n",
       "      <td>14</td>\n",
       "      <td>59</td>\n",
       "      <td>44</td>\n",
       "      <td>58</td>\n",
       "      <td>15</td>\n",
       "    </tr>\n",
       "    <tr>\n",
       "      <th>2011/2012</th>\n",
       "      <th>England Premier League</th>\n",
       "      <td>14</td>\n",
       "      <td>10</td>\n",
       "      <td>14</td>\n",
       "      <td>47</td>\n",
       "      <td>40</td>\n",
       "      <td>52</td>\n",
       "      <td>7</td>\n",
       "    </tr>\n",
       "    <tr>\n",
       "      <th>2012/2013</th>\n",
       "      <th>England Premier League</th>\n",
       "      <td>16</td>\n",
       "      <td>13</td>\n",
       "      <td>9</td>\n",
       "      <td>71</td>\n",
       "      <td>43</td>\n",
       "      <td>61</td>\n",
       "      <td>28</td>\n",
       "    </tr>\n",
       "    <tr>\n",
       "      <th>2013/2014</th>\n",
       "      <th>England Premier League</th>\n",
       "      <td>26</td>\n",
       "      <td>6</td>\n",
       "      <td>6</td>\n",
       "      <td>101</td>\n",
       "      <td>50</td>\n",
       "      <td>84</td>\n",
       "      <td>51</td>\n",
       "    </tr>\n",
       "    <tr>\n",
       "      <th>2014/2015</th>\n",
       "      <th>England Premier League</th>\n",
       "      <td>18</td>\n",
       "      <td>8</td>\n",
       "      <td>12</td>\n",
       "      <td>52</td>\n",
       "      <td>48</td>\n",
       "      <td>62</td>\n",
       "      <td>4</td>\n",
       "    </tr>\n",
       "    <tr>\n",
       "      <th>2015/2016</th>\n",
       "      <th>England Premier League</th>\n",
       "      <td>16</td>\n",
       "      <td>12</td>\n",
       "      <td>10</td>\n",
       "      <td>63</td>\n",
       "      <td>50</td>\n",
       "      <td>60</td>\n",
       "      <td>13</td>\n",
       "    </tr>\n",
       "  </tbody>\n",
       "</table>\n",
       "</div>"
      ],
      "text/plain": [
       "                                   W   D   L   GF  GA  Pts  GD\n",
       "season    League_name                                         \n",
       "2008/2009 England Premier League  25  11   2   77  27   86  50\n",
       "2009/2010 England Premier League  18   9  11   61  35   63  26\n",
       "2010/2011 England Premier League  17   7  14   59  44   58  15\n",
       "2011/2012 England Premier League  14  10  14   47  40   52   7\n",
       "2012/2013 England Premier League  16  13   9   71  43   61  28\n",
       "2013/2014 England Premier League  26   6   6  101  50   84  51\n",
       "2014/2015 England Premier League  18   8  12   52  48   62   4\n",
       "2015/2016 England Premier League  16  12  10   63  50   60  13"
      ]
     },
     "execution_count": 12,
     "metadata": {},
     "output_type": "execute_result"
    }
   ],
   "source": [
    "Team_data_all.xs('Liverpool', level='team_long_name_x')"
   ]
  },
  {
   "cell_type": "markdown",
   "metadata": {},
   "source": [
    "## From a historical point of view (by year)"
   ]
  },
  {
   "cell_type": "markdown",
   "metadata": {},
   "source": [
    "Number of matches along time"
   ]
  },
  {
   "cell_type": "code",
   "execution_count": 13,
   "metadata": {},
   "outputs": [
    {
     "data": {
      "text/plain": [
       "season\n",
       "2008/2009    3326\n",
       "2009/2010    3230\n",
       "2010/2011    3260\n",
       "2011/2012    3220\n",
       "2012/2013    3260\n",
       "2013/2014    3032\n",
       "2014/2015    3325\n",
       "2015/2016    3326\n",
       "Name: country_id, dtype: int64"
      ]
     },
     "execution_count": 13,
     "metadata": {},
     "output_type": "execute_result"
    }
   ],
   "source": [
    "match_number = match.groupby(match.season).count()\n",
    "match_number['country_id']"
   ]
  },
  {
   "cell_type": "markdown",
   "metadata": {},
   "source": [
    "Calculate the mean"
   ]
  },
  {
   "cell_type": "code",
   "execution_count": 14,
   "metadata": {},
   "outputs": [
    {
     "data": {
      "text/plain": [
       "3247.375"
      ]
     },
     "execution_count": 14,
     "metadata": {},
     "output_type": "execute_result"
    }
   ],
   "source": [
    "match_number['country_id'].mean()"
   ]
  },
  {
   "cell_type": "code",
   "execution_count": 15,
   "metadata": {},
   "outputs": [
    {
     "data": {
      "image/png": "[encoded data removed]",
      "text/plain": [
       "<Figure size 1152x360 with 1 Axes>"
      ]
     },
     "metadata": {
      "needs_background": "light"
     },
     "output_type": "display_data"
    }
   ],
   "source": [
    "plt.subplots(figsize=(16,5))\n",
    "plt.bar(match_number.index, match_number['country_id'])\n",
    "\n",
    "plt.xlabel('Season')\n",
    "plt.ylabel('Number of matches')\n",
    "plt.title('The number of matches along time');"
   ]
  },
  {
   "cell_type": "markdown",
   "metadata": {},
   "source": [
    "Number of participating teams along time"
   ]
  },
  {
   "cell_type": "code",
   "execution_count": 16,
   "metadata": {},
   "outputs": [
    {
     "data": {
      "text/html": [
       "<div>\n",
       "<style scoped>\n",
       "    .dataframe tbody tr th:only-of-type {\n",
       "        vertical-align: middle;\n",
       "    }\n",
       "\n",
       "    .dataframe tbody tr th {\n",
       "        vertical-align: top;\n",
       "    }\n",
       "\n",
       "    .dataframe thead th {\n",
       "        text-align: right;\n",
       "    }\n",
       "</style>\n",
       "<table border=\"1\" class=\"dataframe\">\n",
       "  <thead>\n",
       "    <tr style=\"text-align: right;\">\n",
       "      <th></th>\n",
       "      <th>team_api_id_x</th>\n",
       "    </tr>\n",
       "    <tr>\n",
       "      <th>season</th>\n",
       "      <th></th>\n",
       "    </tr>\n",
       "  </thead>\n",
       "  <tbody>\n",
       "    <tr>\n",
       "      <th>2008/2009</th>\n",
       "      <td>188</td>\n",
       "    </tr>\n",
       "    <tr>\n",
       "      <th>2009/2010</th>\n",
       "      <td>185</td>\n",
       "    </tr>\n",
       "    <tr>\n",
       "      <th>2010/2011</th>\n",
       "      <td>186</td>\n",
       "    </tr>\n",
       "    <tr>\n",
       "      <th>2011/2012</th>\n",
       "      <td>186</td>\n",
       "    </tr>\n",
       "    <tr>\n",
       "      <th>2012/2013</th>\n",
       "      <td>186</td>\n",
       "    </tr>\n",
       "    <tr>\n",
       "      <th>2013/2014</th>\n",
       "      <td>174</td>\n",
       "    </tr>\n",
       "    <tr>\n",
       "      <th>2014/2015</th>\n",
       "      <td>188</td>\n",
       "    </tr>\n",
       "    <tr>\n",
       "      <th>2015/2016</th>\n",
       "      <td>188</td>\n",
       "    </tr>\n",
       "  </tbody>\n",
       "</table>\n",
       "</div>"
      ],
      "text/plain": [
       "           team_api_id_x\n",
       "season                  \n",
       "2008/2009            188\n",
       "2009/2010            185\n",
       "2010/2011            186\n",
       "2011/2012            186\n",
       "2012/2013            186\n",
       "2013/2014            174\n",
       "2014/2015            188\n",
       "2015/2016            188"
      ]
     },
     "execution_count": 16,
     "metadata": {},
     "output_type": "execute_result"
    }
   ],
   "source": [
    "match_team_number = match.groupby(match.season).agg({'team_api_id_x':'nunique'})\n",
    "match_team_number"
   ]
  },
  {
   "cell_type": "markdown",
   "metadata": {},
   "source": [
    "Calculate the mean"
   ]
  },
  {
   "cell_type": "code",
   "execution_count": 17,
   "metadata": {},
   "outputs": [
    {
     "data": {
      "text/plain": [
       "team_api_id_x    185.125\n",
       "dtype: float64"
      ]
     },
     "execution_count": 17,
     "metadata": {},
     "output_type": "execute_result"
    }
   ],
   "source": [
    "match_team_number.mean()"
   ]
  },
  {
   "cell_type": "code",
   "execution_count": 18,
   "metadata": {},
   "outputs": [
    {
     "data": {
      "image/png": "[encoded data removed]",
      "text/plain": [
       "<Figure size 1152x360 with 1 Axes>"
      ]
     },
     "metadata": {
      "needs_background": "light"
     },
     "output_type": "display_data"
    }
   ],
   "source": [
    "plt.subplots(figsize=(16,5))\n",
    "plt.bar(match_team_number.index, match_team_number['team_api_id_x'])\n",
    "\n",
    "plt.xlabel('Season')\n",
    "plt.ylabel('Number of participating teams')\n",
    "plt.title('The number of participating teams along time');"
   ]
  },
  {
   "cell_type": "markdown",
   "metadata": {},
   "source": [
    "Thus the number of matches and total participating teams remains roughly constant over time, and the average is 3247 and 185 respectively."
   ]
  },
  {
   "cell_type": "markdown",
   "metadata": {},
   "source": [
    "Then we can see distribution of the times to participate in the season"
   ]
  },
  {
   "cell_type": "code",
   "execution_count": 19,
   "metadata": {},
   "outputs": [
    {
     "data": {
      "text/html": [
       "<div>\n",
       "<style scoped>\n",
       "    .dataframe tbody tr th:only-of-type {\n",
       "        vertical-align: middle;\n",
       "    }\n",
       "\n",
       "    .dataframe tbody tr th {\n",
       "        vertical-align: top;\n",
       "    }\n",
       "\n",
       "    .dataframe thead th {\n",
       "        text-align: right;\n",
       "    }\n",
       "</style>\n",
       "<table border=\"1\" class=\"dataframe\">\n",
       "  <thead>\n",
       "    <tr style=\"text-align: right;\">\n",
       "      <th></th>\n",
       "      <th>team_long_name_y</th>\n",
       "    </tr>\n",
       "    <tr>\n",
       "      <th>season</th>\n",
       "      <th></th>\n",
       "    </tr>\n",
       "  </thead>\n",
       "  <tbody>\n",
       "    <tr>\n",
       "      <th>1</th>\n",
       "      <td>51</td>\n",
       "    </tr>\n",
       "    <tr>\n",
       "      <th>2</th>\n",
       "      <td>24</td>\n",
       "    </tr>\n",
       "    <tr>\n",
       "      <th>3</th>\n",
       "      <td>27</td>\n",
       "    </tr>\n",
       "    <tr>\n",
       "      <th>4</th>\n",
       "      <td>29</td>\n",
       "    </tr>\n",
       "    <tr>\n",
       "      <th>5</th>\n",
       "      <td>21</td>\n",
       "    </tr>\n",
       "    <tr>\n",
       "      <th>6</th>\n",
       "      <td>23</td>\n",
       "    </tr>\n",
       "    <tr>\n",
       "      <th>7</th>\n",
       "      <td>29</td>\n",
       "    </tr>\n",
       "    <tr>\n",
       "      <th>8</th>\n",
       "      <td>92</td>\n",
       "    </tr>\n",
       "  </tbody>\n",
       "</table>\n",
       "</div>"
      ],
      "text/plain": [
       "        team_long_name_y\n",
       "season                  \n",
       "1                     51\n",
       "2                     24\n",
       "3                     27\n",
       "4                     29\n",
       "5                     21\n",
       "6                     23\n",
       "7                     29\n",
       "8                     92"
      ]
     },
     "execution_count": 19,
     "metadata": {},
     "output_type": "execute_result"
    }
   ],
   "source": [
    "league_team = data.groupby(['League_name','team_long_name_x']).agg('nunique')[['season','team_long_name_y']]\n",
    "distribution_times = league_team.groupby('season').count()\n",
    "distribution_times"
   ]
  },
  {
   "cell_type": "code",
   "execution_count": 20,
   "metadata": {},
   "outputs": [
    {
     "data": {
      "image/png": "[encoded data removed]",
      "text/plain": [
       "<Figure size 1008x360 with 1 Axes>"
      ]
     },
     "metadata": {
      "needs_background": "light"
     },
     "output_type": "display_data"
    }
   ],
   "source": [
    "plt.subplots(figsize=(14,5))\n",
    "plt.bar(distribution_times.index, distribution_times['team_long_name_y'])\n",
    "\n",
    "plt.xlabel('Times')\n",
    "plt.ylabel('Number of teams')\n",
    "plt.title('The distribution of the times to participate in the season');"
   ]
  },
  {
   "cell_type": "markdown",
   "metadata": {},
   "source": [
    "Acoording to the plot, 92 teams participated in all the seasons, and 51 teams participated only once, accounting for 31% and 17% of all teams respectively. Besides, the number of teams participating twice to seven times is similar, accounting for 8.6% of all teams in average."
   ]
  },
  {
   "cell_type": "markdown",
   "metadata": {},
   "source": [
    "Number of teams in each league"
   ]
  },
  {
   "cell_type": "code",
   "execution_count": 21,
   "metadata": {},
   "outputs": [
    {
     "data": {
      "text/html": [
       "<div>\n",
       "<style scoped>\n",
       "    .dataframe tbody tr th:only-of-type {\n",
       "        vertical-align: middle;\n",
       "    }\n",
       "\n",
       "    .dataframe tbody tr th {\n",
       "        vertical-align: top;\n",
       "    }\n",
       "\n",
       "    .dataframe thead th {\n",
       "        text-align: right;\n",
       "    }\n",
       "</style>\n",
       "<table border=\"1\" class=\"dataframe\">\n",
       "  <thead>\n",
       "    <tr style=\"text-align: right;\">\n",
       "      <th></th>\n",
       "      <th>season</th>\n",
       "      <th>team_long_name_y</th>\n",
       "    </tr>\n",
       "    <tr>\n",
       "      <th>League_name</th>\n",
       "      <th></th>\n",
       "      <th></th>\n",
       "    </tr>\n",
       "  </thead>\n",
       "  <tbody>\n",
       "    <tr>\n",
       "      <th>Belgium Jupiler League</th>\n",
       "      <td>24</td>\n",
       "      <td>24</td>\n",
       "    </tr>\n",
       "    <tr>\n",
       "      <th>England Premier League</th>\n",
       "      <td>34</td>\n",
       "      <td>34</td>\n",
       "    </tr>\n",
       "    <tr>\n",
       "      <th>France Ligue 1</th>\n",
       "      <td>35</td>\n",
       "      <td>35</td>\n",
       "    </tr>\n",
       "    <tr>\n",
       "      <th>Germany 1. Bundesliga</th>\n",
       "      <td>30</td>\n",
       "      <td>30</td>\n",
       "    </tr>\n",
       "    <tr>\n",
       "      <th>Italy Serie A</th>\n",
       "      <td>32</td>\n",
       "      <td>32</td>\n",
       "    </tr>\n",
       "    <tr>\n",
       "      <th>Netherlands Eredivisie</th>\n",
       "      <td>25</td>\n",
       "      <td>25</td>\n",
       "    </tr>\n",
       "    <tr>\n",
       "      <th>Poland Ekstraklasa</th>\n",
       "      <td>22</td>\n",
       "      <td>22</td>\n",
       "    </tr>\n",
       "    <tr>\n",
       "      <th>Portugal Liga ZON Sagres</th>\n",
       "      <td>29</td>\n",
       "      <td>29</td>\n",
       "    </tr>\n",
       "    <tr>\n",
       "      <th>Scotland Premier League</th>\n",
       "      <td>17</td>\n",
       "      <td>17</td>\n",
       "    </tr>\n",
       "    <tr>\n",
       "      <th>Spain LIGA BBVA</th>\n",
       "      <td>33</td>\n",
       "      <td>33</td>\n",
       "    </tr>\n",
       "    <tr>\n",
       "      <th>Switzerland Super League</th>\n",
       "      <td>15</td>\n",
       "      <td>15</td>\n",
       "    </tr>\n",
       "  </tbody>\n",
       "</table>\n",
       "</div>"
      ],
      "text/plain": [
       "                          season  team_long_name_y\n",
       "League_name                                       \n",
       "Belgium Jupiler League        24                24\n",
       "England Premier League        34                34\n",
       "France Ligue 1                35                35\n",
       "Germany 1. Bundesliga         30                30\n",
       "Italy Serie A                 32                32\n",
       "Netherlands Eredivisie        25                25\n",
       "Poland Ekstraklasa            22                22\n",
       "Portugal Liga ZON Sagres      29                29\n",
       "Scotland Premier League       17                17\n",
       "Spain LIGA BBVA               33                33\n",
       "Switzerland Super League      15                15"
      ]
     },
     "execution_count": 21,
     "metadata": {},
     "output_type": "execute_result"
    }
   ],
   "source": [
    "league_team_number = league_team.groupby('League_name').count()\n",
    "league_team_number"
   ]
  },
  {
   "cell_type": "code",
   "execution_count": 22,
   "metadata": {},
   "outputs": [
    {
     "data": {
      "image/png": "[encoded data removed]",
      "text/plain": [
       "<Figure size 1440x360 with 1 Axes>"
      ]
     },
     "metadata": {
      "needs_background": "light"
     },
     "output_type": "display_data"
    }
   ],
   "source": [
    "plt.subplots(figsize=(20,5))\n",
    "plt.bar(league_team_number.index, league_team_number['season'])\n",
    "\n",
    "plt.xlabel('League')\n",
    "plt.ylabel('Number of teams')\n",
    "plt.title('The number of teams in leagues');"
   ]
  },
  {
   "cell_type": "markdown",
   "metadata": {},
   "source": [
    "Number of participating teams in each league along time"
   ]
  },
  {
   "cell_type": "code",
   "execution_count": 23,
   "metadata": {},
   "outputs": [
    {
     "data": {
      "text/plain": [
       "['2008/2009',\n",
       " '2009/2010',\n",
       " '2010/2011',\n",
       " '2011/2012',\n",
       " '2012/2013',\n",
       " '2014/2015',\n",
       " '2015/2016',\n",
       " '2013/2014']"
      ]
     },
     "execution_count": 23,
     "metadata": {},
     "output_type": "execute_result"
    }
   ],
   "source": [
    "seasons #seasons not entirely sorted by year"
   ]
  },
  {
   "cell_type": "code",
   "execution_count": 24,
   "metadata": {},
   "outputs": [
    {
     "data": {
      "text/plain": [
       "Index(['Belgium Jupiler League', 'England Premier League', 'France Ligue 1',\n",
       "       'Germany 1. Bundesliga', 'Italy Serie A', 'Netherlands Eredivisie',\n",
       "       'Poland Ekstraklasa', 'Portugal Liga ZON Sagres',\n",
       "       'Scotland Premier League', 'Spain LIGA BBVA',\n",
       "       'Switzerland Super League'],\n",
       "      dtype='object', name='League_name')"
      ]
     },
     "execution_count": 24,
     "metadata": {},
     "output_type": "execute_result"
    }
   ],
   "source": [
    "participating.loc[seasons[7]].index"
   ]
  },
  {
   "cell_type": "code",
   "execution_count": 25,
   "metadata": {},
   "outputs": [
    {
     "data": {
      "text/plain": [
       "array([ 4, 20, 20, 18, 20, 18, 16, 16, 12, 20, 10], dtype=int64)"
      ]
     },
     "execution_count": 25,
     "metadata": {},
     "output_type": "execute_result"
    }
   ],
   "source": [
    "participating.loc[seasons[7]].values"
   ]
  },
  {
   "cell_type": "code",
   "execution_count": 26,
   "metadata": {},
   "outputs": [
    {
     "data": {
      "text/plain": [
       "Text(0, 0.6, 'Number of participating teams')"
      ]
     },
     "execution_count": 26,
     "metadata": {},
     "output_type": "execute_result"
    },
    {
     "data": {
      "image/png": "[encoded data removed]",
      "text/plain": [
       "<Figure size 1080x576 with 8 Axes>"
      ]
     },
     "metadata": {
      "needs_background": "light"
     },
     "output_type": "display_data"
    }
   ],
   "source": [
    "fig, ax = plt.subplots(4,2,figsize= (15,8), sharey = True)\n",
    "\n",
    "for i in range(8):\n",
    "    sbplt = ax[i%4, math.floor(i/4)]\n",
    "    sbplt.bar(participating.loc[seasons[i]].index,participating.loc[seasons[i]].values)\n",
    "    \n",
    "fig.tight_layout()\n",
    "\n",
    "fig.text(0.4,0, \"League\")\n",
    "fig.text(0,0.6, \"Number of participating teams\", rotation = 90)"
   ]
  },
  {
   "cell_type": "markdown",
   "metadata": {},
   "source": [
    "Ranking of teams by points in one season"
   ]
  },
  {
   "cell_type": "code",
   "execution_count": 27,
   "metadata": {},
   "outputs": [
    {
     "data": {
      "text/html": [
       "<div>\n",
       "<style scoped>\n",
       "    .dataframe tbody tr th:only-of-type {\n",
       "        vertical-align: middle;\n",
       "    }\n",
       "\n",
       "    .dataframe tbody tr th {\n",
       "        vertical-align: top;\n",
       "    }\n",
       "\n",
       "    .dataframe thead th {\n",
       "        text-align: right;\n",
       "    }\n",
       "</style>\n",
       "<table border=\"1\" class=\"dataframe\">\n",
       "  <thead>\n",
       "    <tr style=\"text-align: right;\">\n",
       "      <th></th>\n",
       "      <th></th>\n",
       "      <th>W</th>\n",
       "      <th>D</th>\n",
       "      <th>L</th>\n",
       "      <th>GF</th>\n",
       "      <th>GA</th>\n",
       "      <th>Pts</th>\n",
       "      <th>GD</th>\n",
       "    </tr>\n",
       "    <tr>\n",
       "      <th>League_name</th>\n",
       "      <th>team_long_name_x</th>\n",
       "      <th></th>\n",
       "      <th></th>\n",
       "      <th></th>\n",
       "      <th></th>\n",
       "      <th></th>\n",
       "      <th></th>\n",
       "      <th></th>\n",
       "    </tr>\n",
       "  </thead>\n",
       "  <tbody>\n",
       "    <tr>\n",
       "      <th>Italy Serie A</th>\n",
       "      <th>Juventus</th>\n",
       "      <td>33</td>\n",
       "      <td>3</td>\n",
       "      <td>2</td>\n",
       "      <td>80</td>\n",
       "      <td>23</td>\n",
       "      <td>102</td>\n",
       "      <td>57</td>\n",
       "    </tr>\n",
       "    <tr>\n",
       "      <th>Scotland Premier League</th>\n",
       "      <th>Celtic</th>\n",
       "      <td>31</td>\n",
       "      <td>6</td>\n",
       "      <td>1</td>\n",
       "      <td>102</td>\n",
       "      <td>25</td>\n",
       "      <td>99</td>\n",
       "      <td>77</td>\n",
       "    </tr>\n",
       "    <tr>\n",
       "      <th>Germany 1. Bundesliga</th>\n",
       "      <th>FC Bayern Munich</th>\n",
       "      <td>29</td>\n",
       "      <td>3</td>\n",
       "      <td>2</td>\n",
       "      <td>94</td>\n",
       "      <td>23</td>\n",
       "      <td>90</td>\n",
       "      <td>71</td>\n",
       "    </tr>\n",
       "    <tr>\n",
       "      <th>Spain LIGA BBVA</th>\n",
       "      <th>Atlético Madrid</th>\n",
       "      <td>28</td>\n",
       "      <td>6</td>\n",
       "      <td>4</td>\n",
       "      <td>77</td>\n",
       "      <td>26</td>\n",
       "      <td>90</td>\n",
       "      <td>51</td>\n",
       "    </tr>\n",
       "    <tr>\n",
       "      <th>France Ligue 1</th>\n",
       "      <th>Paris Saint-Germain</th>\n",
       "      <td>27</td>\n",
       "      <td>8</td>\n",
       "      <td>3</td>\n",
       "      <td>84</td>\n",
       "      <td>23</td>\n",
       "      <td>89</td>\n",
       "      <td>61</td>\n",
       "    </tr>\n",
       "    <tr>\n",
       "      <th>...</th>\n",
       "      <th>...</th>\n",
       "      <td>...</td>\n",
       "      <td>...</td>\n",
       "      <td>...</td>\n",
       "      <td>...</td>\n",
       "      <td>...</td>\n",
       "      <td>...</td>\n",
       "      <td>...</td>\n",
       "    </tr>\n",
       "    <tr>\n",
       "      <th>Poland Ekstraklasa</th>\n",
       "      <th>Widzew Łódź</th>\n",
       "      <td>5</td>\n",
       "      <td>7</td>\n",
       "      <td>18</td>\n",
       "      <td>26</td>\n",
       "      <td>51</td>\n",
       "      <td>22</td>\n",
       "      <td>-25</td>\n",
       "    </tr>\n",
       "    <tr>\n",
       "      <th rowspan=\"4\" valign=\"top\">Belgium Jupiler League</th>\n",
       "      <th>KV Oostende</th>\n",
       "      <td>4</td>\n",
       "      <td>2</td>\n",
       "      <td>0</td>\n",
       "      <td>7</td>\n",
       "      <td>1</td>\n",
       "      <td>14</td>\n",
       "      <td>6</td>\n",
       "    </tr>\n",
       "    <tr>\n",
       "      <th>KAA Gent</th>\n",
       "      <td>3</td>\n",
       "      <td>1</td>\n",
       "      <td>2</td>\n",
       "      <td>11</td>\n",
       "      <td>6</td>\n",
       "      <td>10</td>\n",
       "      <td>5</td>\n",
       "    </tr>\n",
       "    <tr>\n",
       "      <th>Lierse SK</th>\n",
       "      <td>2</td>\n",
       "      <td>0</td>\n",
       "      <td>4</td>\n",
       "      <td>5</td>\n",
       "      <td>12</td>\n",
       "      <td>6</td>\n",
       "      <td>-7</td>\n",
       "    </tr>\n",
       "    <tr>\n",
       "      <th>Waasland-Beveren</th>\n",
       "      <td>1</td>\n",
       "      <td>1</td>\n",
       "      <td>4</td>\n",
       "      <td>7</td>\n",
       "      <td>11</td>\n",
       "      <td>4</td>\n",
       "      <td>-4</td>\n",
       "    </tr>\n",
       "  </tbody>\n",
       "</table>\n",
       "<p>174 rows × 7 columns</p>\n",
       "</div>"
      ],
      "text/plain": [
       "                                              W  D   L   GF  GA  Pts  GD\n",
       "League_name             team_long_name_x                                \n",
       "Italy Serie A           Juventus             33  3   2   80  23  102  57\n",
       "Scotland Premier League Celtic               31  6   1  102  25   99  77\n",
       "Germany 1. Bundesliga   FC Bayern Munich     29  3   2   94  23   90  71\n",
       "Spain LIGA BBVA         Atlético Madrid      28  6   4   77  26   90  51\n",
       "France Ligue 1          Paris Saint-Germain  27  8   3   84  23   89  61\n",
       "...                                          .. ..  ..  ...  ..  ...  ..\n",
       "Poland Ekstraklasa      Widzew Łódź           5  7  18   26  51   22 -25\n",
       "Belgium Jupiler League  KV Oostende           4  2   0    7   1   14   6\n",
       "                        KAA Gent              3  1   2   11   6   10   5\n",
       "                        Lierse SK             2  0   4    5  12    6  -7\n",
       "                        Waasland-Beveren      1  1   4    7  11    4  -4\n",
       "\n",
       "[174 rows x 7 columns]"
      ]
     },
     "execution_count": 27,
     "metadata": {},
     "output_type": "execute_result"
    }
   ],
   "source": [
    "Team_data_all.xs('2013/2014', level='season').sort_values(by='Pts', ascending=False, na_position='first')"
   ]
  },
  {
   "cell_type": "markdown",
   "metadata": {},
   "source": [
    "## From the team point of view"
   ]
  },
  {
   "cell_type": "markdown",
   "metadata": {},
   "source": [
    "Let's look at the highest Pts team and lowest teams."
   ]
  },
  {
   "cell_type": "code",
   "execution_count": 28,
   "metadata": {},
   "outputs": [
    {
     "data": {
      "text/html": [
       "<div>\n",
       "<style scoped>\n",
       "    .dataframe tbody tr th:only-of-type {\n",
       "        vertical-align: middle;\n",
       "    }\n",
       "\n",
       "    .dataframe tbody tr th {\n",
       "        vertical-align: top;\n",
       "    }\n",
       "\n",
       "    .dataframe thead th {\n",
       "        text-align: right;\n",
       "    }\n",
       "</style>\n",
       "<table border=\"1\" class=\"dataframe\">\n",
       "  <thead>\n",
       "    <tr style=\"text-align: right;\">\n",
       "      <th></th>\n",
       "      <th></th>\n",
       "      <th></th>\n",
       "      <th>W</th>\n",
       "      <th>D</th>\n",
       "      <th>L</th>\n",
       "      <th>GF</th>\n",
       "      <th>GA</th>\n",
       "      <th>Pts</th>\n",
       "      <th>GD</th>\n",
       "    </tr>\n",
       "    <tr>\n",
       "      <th>season</th>\n",
       "      <th>League_name</th>\n",
       "      <th>team_long_name_x</th>\n",
       "      <th></th>\n",
       "      <th></th>\n",
       "      <th></th>\n",
       "      <th></th>\n",
       "      <th></th>\n",
       "      <th></th>\n",
       "      <th></th>\n",
       "    </tr>\n",
       "  </thead>\n",
       "  <tbody>\n",
       "    <tr>\n",
       "      <th>2013/2014</th>\n",
       "      <th>Italy Serie A</th>\n",
       "      <th>Juventus</th>\n",
       "      <td>33</td>\n",
       "      <td>3</td>\n",
       "      <td>2</td>\n",
       "      <td>80</td>\n",
       "      <td>23</td>\n",
       "      <td>102</td>\n",
       "      <td>57</td>\n",
       "    </tr>\n",
       "    <tr>\n",
       "      <th>2012/2013</th>\n",
       "      <th>Spain LIGA BBVA</th>\n",
       "      <th>FC Barcelona</th>\n",
       "      <td>32</td>\n",
       "      <td>4</td>\n",
       "      <td>2</td>\n",
       "      <td>115</td>\n",
       "      <td>40</td>\n",
       "      <td>100</td>\n",
       "      <td>75</td>\n",
       "    </tr>\n",
       "    <tr>\n",
       "      <th>2011/2012</th>\n",
       "      <th>Spain LIGA BBVA</th>\n",
       "      <th>Real Madrid CF</th>\n",
       "      <td>32</td>\n",
       "      <td>4</td>\n",
       "      <td>2</td>\n",
       "      <td>121</td>\n",
       "      <td>32</td>\n",
       "      <td>100</td>\n",
       "      <td>89</td>\n",
       "    </tr>\n",
       "    <tr>\n",
       "      <th>2013/2014</th>\n",
       "      <th>Scotland Premier League</th>\n",
       "      <th>Celtic</th>\n",
       "      <td>31</td>\n",
       "      <td>6</td>\n",
       "      <td>1</td>\n",
       "      <td>102</td>\n",
       "      <td>25</td>\n",
       "      <td>99</td>\n",
       "      <td>77</td>\n",
       "    </tr>\n",
       "    <tr>\n",
       "      <th>2009/2010</th>\n",
       "      <th>Spain LIGA BBVA</th>\n",
       "      <th>FC Barcelona</th>\n",
       "      <td>31</td>\n",
       "      <td>6</td>\n",
       "      <td>1</td>\n",
       "      <td>98</td>\n",
       "      <td>24</td>\n",
       "      <td>99</td>\n",
       "      <td>74</td>\n",
       "    </tr>\n",
       "    <tr>\n",
       "      <th>...</th>\n",
       "      <th>...</th>\n",
       "      <th>...</th>\n",
       "      <td>...</td>\n",
       "      <td>...</td>\n",
       "      <td>...</td>\n",
       "      <td>...</td>\n",
       "      <td>...</td>\n",
       "      <td>...</td>\n",
       "      <td>...</td>\n",
       "    </tr>\n",
       "    <tr>\n",
       "      <th>2013/2014</th>\n",
       "      <th>Belgium Jupiler League</th>\n",
       "      <th>KV Oostende</th>\n",
       "      <td>4</td>\n",
       "      <td>2</td>\n",
       "      <td>0</td>\n",
       "      <td>7</td>\n",
       "      <td>1</td>\n",
       "      <td>14</td>\n",
       "      <td>6</td>\n",
       "    </tr>\n",
       "    <tr>\n",
       "      <th>2012/2013</th>\n",
       "      <th>Belgium Jupiler League</th>\n",
       "      <th>KSV Cercle Brugge</th>\n",
       "      <td>3</td>\n",
       "      <td>5</td>\n",
       "      <td>22</td>\n",
       "      <td>30</td>\n",
       "      <td>65</td>\n",
       "      <td>14</td>\n",
       "      <td>-35</td>\n",
       "    </tr>\n",
       "    <tr>\n",
       "      <th rowspan=\"3\" valign=\"top\">2013/2014</th>\n",
       "      <th rowspan=\"3\" valign=\"top\">Belgium Jupiler League</th>\n",
       "      <th>KAA Gent</th>\n",
       "      <td>3</td>\n",
       "      <td>1</td>\n",
       "      <td>2</td>\n",
       "      <td>11</td>\n",
       "      <td>6</td>\n",
       "      <td>10</td>\n",
       "      <td>5</td>\n",
       "    </tr>\n",
       "    <tr>\n",
       "      <th>Lierse SK</th>\n",
       "      <td>2</td>\n",
       "      <td>0</td>\n",
       "      <td>4</td>\n",
       "      <td>5</td>\n",
       "      <td>12</td>\n",
       "      <td>6</td>\n",
       "      <td>-7</td>\n",
       "    </tr>\n",
       "    <tr>\n",
       "      <th>Waasland-Beveren</th>\n",
       "      <td>1</td>\n",
       "      <td>1</td>\n",
       "      <td>4</td>\n",
       "      <td>7</td>\n",
       "      <td>11</td>\n",
       "      <td>4</td>\n",
       "      <td>-4</td>\n",
       "    </tr>\n",
       "  </tbody>\n",
       "</table>\n",
       "<p>1478 rows × 7 columns</p>\n",
       "</div>"
      ],
      "text/plain": [
       "                                                      W  D   L   GF  GA  Pts  \\\n",
       "season    League_name             team_long_name_x                             \n",
       "2013/2014 Italy Serie A           Juventus           33  3   2   80  23  102   \n",
       "2012/2013 Spain LIGA BBVA         FC Barcelona       32  4   2  115  40  100   \n",
       "2011/2012 Spain LIGA BBVA         Real Madrid CF     32  4   2  121  32  100   \n",
       "2013/2014 Scotland Premier League Celtic             31  6   1  102  25   99   \n",
       "2009/2010 Spain LIGA BBVA         FC Barcelona       31  6   1   98  24   99   \n",
       "...                                                  .. ..  ..  ...  ..  ...   \n",
       "2013/2014 Belgium Jupiler League  KV Oostende         4  2   0    7   1   14   \n",
       "2012/2013 Belgium Jupiler League  KSV Cercle Brugge   3  5  22   30  65   14   \n",
       "2013/2014 Belgium Jupiler League  KAA Gent            3  1   2   11   6   10   \n",
       "                                  Lierse SK           2  0   4    5  12    6   \n",
       "                                  Waasland-Beveren    1  1   4    7  11    4   \n",
       "\n",
       "                                                     GD  \n",
       "season    League_name             team_long_name_x       \n",
       "2013/2014 Italy Serie A           Juventus           57  \n",
       "2012/2013 Spain LIGA BBVA         FC Barcelona       75  \n",
       "2011/2012 Spain LIGA BBVA         Real Madrid CF     89  \n",
       "2013/2014 Scotland Premier League Celtic             77  \n",
       "2009/2010 Spain LIGA BBVA         FC Barcelona       74  \n",
       "...                                                  ..  \n",
       "2013/2014 Belgium Jupiler League  KV Oostende         6  \n",
       "2012/2013 Belgium Jupiler League  KSV Cercle Brugge -35  \n",
       "2013/2014 Belgium Jupiler League  KAA Gent            5  \n",
       "                                  Lierse SK          -7  \n",
       "                                  Waasland-Beveren   -4  \n",
       "\n",
       "[1478 rows x 7 columns]"
      ]
     },
     "execution_count": 28,
     "metadata": {},
     "output_type": "execute_result"
    }
   ],
   "source": [
    "Team_data_all.sort_values(by='Pts', ascending=False, na_position='first')"
   ]
  },
  {
   "cell_type": "markdown",
   "metadata": {},
   "source": [
    "Juventus from Italy Serie A got 102 points in season 2013/2014, the highest points in history. And the teams which obtained the top five low points in history are all from Belgium Jupiler League."
   ]
  },
  {
   "cell_type": "markdown",
   "metadata": {},
   "source": [
    "Explore top 10 Pts teams along season."
   ]
  },
  {
   "cell_type": "code",
   "execution_count": 29,
   "metadata": {},
   "outputs": [
    {
     "data": {
      "text/html": [
       "<div>\n",
       "<style scoped>\n",
       "    .dataframe tbody tr th:only-of-type {\n",
       "        vertical-align: middle;\n",
       "    }\n",
       "\n",
       "    .dataframe tbody tr th {\n",
       "        vertical-align: top;\n",
       "    }\n",
       "\n",
       "    .dataframe thead th {\n",
       "        text-align: right;\n",
       "    }\n",
       "</style>\n",
       "<table border=\"1\" class=\"dataframe\">\n",
       "  <thead>\n",
       "    <tr style=\"text-align: right;\">\n",
       "      <th></th>\n",
       "      <th>W</th>\n",
       "      <th>D</th>\n",
       "      <th>L</th>\n",
       "      <th>GF</th>\n",
       "      <th>GA</th>\n",
       "      <th>Pts</th>\n",
       "      <th>GD</th>\n",
       "    </tr>\n",
       "    <tr>\n",
       "      <th>team_long_name_x</th>\n",
       "      <th></th>\n",
       "      <th></th>\n",
       "      <th></th>\n",
       "      <th></th>\n",
       "      <th></th>\n",
       "      <th></th>\n",
       "      <th></th>\n",
       "    </tr>\n",
       "  </thead>\n",
       "  <tbody>\n",
       "    <tr>\n",
       "      <th>Celtic</th>\n",
       "      <td>8</td>\n",
       "      <td>8</td>\n",
       "      <td>8</td>\n",
       "      <td>8</td>\n",
       "      <td>8</td>\n",
       "      <td>8</td>\n",
       "      <td>8</td>\n",
       "    </tr>\n",
       "    <tr>\n",
       "      <th>FC Barcelona</th>\n",
       "      <td>8</td>\n",
       "      <td>8</td>\n",
       "      <td>8</td>\n",
       "      <td>8</td>\n",
       "      <td>8</td>\n",
       "      <td>8</td>\n",
       "      <td>8</td>\n",
       "    </tr>\n",
       "    <tr>\n",
       "      <th>Real Madrid CF</th>\n",
       "      <td>7</td>\n",
       "      <td>7</td>\n",
       "      <td>7</td>\n",
       "      <td>7</td>\n",
       "      <td>7</td>\n",
       "      <td>7</td>\n",
       "      <td>7</td>\n",
       "    </tr>\n",
       "    <tr>\n",
       "      <th>Paris Saint-Germain</th>\n",
       "      <td>5</td>\n",
       "      <td>5</td>\n",
       "      <td>5</td>\n",
       "      <td>5</td>\n",
       "      <td>5</td>\n",
       "      <td>5</td>\n",
       "      <td>5</td>\n",
       "    </tr>\n",
       "    <tr>\n",
       "      <th>Manchester United</th>\n",
       "      <td>5</td>\n",
       "      <td>5</td>\n",
       "      <td>5</td>\n",
       "      <td>5</td>\n",
       "      <td>5</td>\n",
       "      <td>5</td>\n",
       "      <td>5</td>\n",
       "    </tr>\n",
       "  </tbody>\n",
       "</table>\n",
       "</div>"
      ],
      "text/plain": [
       "                     W  D  L  GF  GA  Pts  GD\n",
       "team_long_name_x                             \n",
       "Celtic               8  8  8   8   8    8   8\n",
       "FC Barcelona         8  8  8   8   8    8   8\n",
       "Real Madrid CF       7  7  7   7   7    7   7\n",
       "Paris Saint-Germain  5  5  5   5   5    5   5\n",
       "Manchester United    5  5  5   5   5    5   5"
      ]
     },
     "execution_count": 29,
     "metadata": {},
     "output_type": "execute_result"
    }
   ],
   "source": [
    "for i in range(8):\n",
    "    df = Team_data_all.loc[seasons[i]].sort_values(by='Pts', ascending=False, na_position='first').head(10)\n",
    "    if i == 0:\n",
    "        top_team = df\n",
    "    else:\n",
    "        top_team = pd.concat([top_team, df], axis=0)\n",
    "        \n",
    "top_team.groupby('team_long_name_x').count().sort_values(by='W', ascending=False, na_position='first').head()"
   ]
  },
  {
   "cell_type": "markdown",
   "metadata": {},
   "source": [
    "Celtic and FC Barcelona are the only two teams that enter the top 10 points every season. And by observation, we can find FC Barcelona the team that won the most champions, which is four times in eight seasons."
   ]
  },
  {
   "cell_type": "markdown",
   "metadata": {},
   "source": [
    "How many teams participate the most and least matches?"
   ]
  },
  {
   "cell_type": "code",
   "execution_count": 30,
   "metadata": {},
   "outputs": [],
   "source": [
    "# data_1 should have same statistics as data_2\n",
    "# because each pair of teams change their role\n",
    "# as for and against team\n",
    "data_1 = data.groupby('team_long_name_x').count()\n",
    "data_2 = data.groupby('team_long_name_y').count()\n",
    "team_times = data_1.sort_values(by='season', ascending=False, na_position='first')"
   ]
  },
  {
   "cell_type": "markdown",
   "metadata": {},
   "source": [
    "Teams with most matches and its number"
   ]
  },
  {
   "cell_type": "code",
   "execution_count": 31,
   "metadata": {},
   "outputs": [
    {
     "data": {
      "text/plain": [
       "304"
      ]
     },
     "execution_count": 31,
     "metadata": {},
     "output_type": "execute_result"
    }
   ],
   "source": [
    "2*team_times.season.max()"
   ]
  },
  {
   "cell_type": "code",
   "execution_count": 32,
   "metadata": {},
   "outputs": [
    {
     "data": {
      "text/plain": [
       "34"
      ]
     },
     "execution_count": 32,
     "metadata": {},
     "output_type": "execute_result"
    }
   ],
   "source": [
    "len(team_times[team_times['season']==152])"
   ]
  },
  {
   "cell_type": "markdown",
   "metadata": {},
   "source": [
    "Team with least matches and its number"
   ]
  },
  {
   "cell_type": "code",
   "execution_count": 33,
   "metadata": {},
   "outputs": [
    {
     "data": {
      "text/plain": [
       "30"
      ]
     },
     "execution_count": 33,
     "metadata": {},
     "output_type": "execute_result"
    }
   ],
   "source": [
    "2*team_times.season.min()"
   ]
  },
  {
   "cell_type": "code",
   "execution_count": 34,
   "metadata": {},
   "outputs": [
    {
     "data": {
      "text/plain": [
       "6"
      ]
     },
     "execution_count": 34,
     "metadata": {},
     "output_type": "execute_result"
    }
   ],
   "source": [
    "len(team_times[team_times['season']==15])"
   ]
  },
  {
   "cell_type": "markdown",
   "metadata": {},
   "source": [
    "There are 34 teams with the largest number of matches, which is 304. While the smallest number of matches is 30, obtained by 6 teams."
   ]
  },
  {
   "cell_type": "code",
   "execution_count": 35,
   "metadata": {},
   "outputs": [
    {
     "data": {
      "text/plain": [
       "team_long_name_x\n",
       "FC Barcelona            93.125\n",
       "Real Madrid CF          90.000\n",
       "Celtic                  88.000\n",
       "Rangers                 87.250\n",
       "Juventus                79.125\n",
       "                         ...  \n",
       "Lierse SK               21.800\n",
       "SpVgg Greuther Fürth    21.000\n",
       "FC Dordrecht            20.000\n",
       "AC Arles-Avignon        20.000\n",
       "Córdoba CF              20.000\n",
       "Name: Pts, Length: 296, dtype: float64"
      ]
     },
     "execution_count": 35,
     "metadata": {},
     "output_type": "execute_result"
    }
   ],
   "source": [
    "Team_data_all.groupby(['team_long_name_x']).agg('mean').sort_values(by='Pts', ascending=False, na_position='first')['Pts']"
   ]
  },
  {
   "cell_type": "markdown",
   "metadata": {},
   "source": [
    "FC Barcelona, Real Madrid CF and Celtic are the top 3 high average points teams."
   ]
  },
  {
   "cell_type": "markdown",
   "metadata": {},
   "source": [
    "Which is the best new team in history? (which get highest points when first participating)"
   ]
  },
  {
   "cell_type": "code",
   "execution_count": 36,
   "metadata": {},
   "outputs": [
    {
     "name": "stdout",
     "output_type": "stream",
     "text": [
      "('2008/2009', 'England Premier League') Manchester United 90\n"
     ]
    }
   ],
   "source": [
    "team_best = None\n",
    "season_best = None\n",
    "Pts_best = 0\n",
    "for team in team_list:\n",
    "    Pts = Team_data_all.xs(team,level = 'team_long_name_x').iloc[0,-2]\n",
    "    if Pts > Pts_best:\n",
    "        team_best = team\n",
    "        Pts_best = Pts\n",
    "        season_best = Team_data_all.xs(team,level = 'team_long_name_x').index[0]\n",
    "print(season_best,team_best,Pts_best)"
   ]
  },
  {
   "cell_type": "markdown",
   "metadata": {},
   "source": [
    "Check if it's the unique value"
   ]
  },
  {
   "cell_type": "code",
   "execution_count": 37,
   "metadata": {},
   "outputs": [
    {
     "data": {
      "text/plain": [
       "[67, 82, 87, 67, 74, 90, 64, 86, 78]"
      ]
     },
     "execution_count": 37,
     "metadata": {},
     "output_type": "execute_result"
    }
   ],
   "source": [
    "# select team whose score more than 90\n",
    "team_list_90 = Team_data_all[Team_data_all['Pts']>=90].groupby('team_long_name_x').agg('mean').index.tolist()\n",
    "\n",
    "# check their score of first participating season\n",
    "PTS = []\n",
    "for team in team_list_90:\n",
    "    Pts = Team_data_all.xs(team,level = 'team_long_name_x').iloc[0,-2]\n",
    "    PTS.append(Pts)\n",
    "PTS"
   ]
  },
  {
   "cell_type": "markdown",
   "metadata": {},
   "source": [
    "So 90 is the unique highest value."
   ]
  },
  {
   "cell_type": "markdown",
   "metadata": {},
   "source": [
    "Which team is the one with the most goals in a single season?"
   ]
  },
  {
   "cell_type": "code",
   "execution_count": 38,
   "metadata": {},
   "outputs": [
    {
     "data": {
      "text/html": [
       "<div>\n",
       "<style scoped>\n",
       "    .dataframe tbody tr th:only-of-type {\n",
       "        vertical-align: middle;\n",
       "    }\n",
       "\n",
       "    .dataframe tbody tr th {\n",
       "        vertical-align: top;\n",
       "    }\n",
       "\n",
       "    .dataframe thead th {\n",
       "        text-align: right;\n",
       "    }\n",
       "</style>\n",
       "<table border=\"1\" class=\"dataframe\">\n",
       "  <thead>\n",
       "    <tr style=\"text-align: right;\">\n",
       "      <th></th>\n",
       "      <th></th>\n",
       "      <th></th>\n",
       "      <th>W</th>\n",
       "      <th>D</th>\n",
       "      <th>L</th>\n",
       "      <th>GF</th>\n",
       "      <th>GA</th>\n",
       "      <th>Pts</th>\n",
       "      <th>GD</th>\n",
       "    </tr>\n",
       "    <tr>\n",
       "      <th>season</th>\n",
       "      <th>League_name</th>\n",
       "      <th>team_long_name_x</th>\n",
       "      <th></th>\n",
       "      <th></th>\n",
       "      <th></th>\n",
       "      <th></th>\n",
       "      <th></th>\n",
       "      <th></th>\n",
       "      <th></th>\n",
       "    </tr>\n",
       "  </thead>\n",
       "  <tbody>\n",
       "    <tr>\n",
       "      <th>2011/2012</th>\n",
       "      <th>Spain LIGA BBVA</th>\n",
       "      <th>Real Madrid CF</th>\n",
       "      <td>32</td>\n",
       "      <td>4</td>\n",
       "      <td>2</td>\n",
       "      <td>121</td>\n",
       "      <td>32</td>\n",
       "      <td>100</td>\n",
       "      <td>89</td>\n",
       "    </tr>\n",
       "    <tr>\n",
       "      <th>2014/2015</th>\n",
       "      <th>Spain LIGA BBVA</th>\n",
       "      <th>Real Madrid CF</th>\n",
       "      <td>30</td>\n",
       "      <td>2</td>\n",
       "      <td>6</td>\n",
       "      <td>118</td>\n",
       "      <td>38</td>\n",
       "      <td>92</td>\n",
       "      <td>80</td>\n",
       "    </tr>\n",
       "    <tr>\n",
       "      <th>2012/2013</th>\n",
       "      <th>Spain LIGA BBVA</th>\n",
       "      <th>FC Barcelona</th>\n",
       "      <td>32</td>\n",
       "      <td>4</td>\n",
       "      <td>2</td>\n",
       "      <td>115</td>\n",
       "      <td>40</td>\n",
       "      <td>100</td>\n",
       "      <td>75</td>\n",
       "    </tr>\n",
       "    <tr>\n",
       "      <th>2011/2012</th>\n",
       "      <th>Spain LIGA BBVA</th>\n",
       "      <th>FC Barcelona</th>\n",
       "      <td>28</td>\n",
       "      <td>7</td>\n",
       "      <td>3</td>\n",
       "      <td>114</td>\n",
       "      <td>29</td>\n",
       "      <td>91</td>\n",
       "      <td>85</td>\n",
       "    </tr>\n",
       "    <tr>\n",
       "      <th>2015/2016</th>\n",
       "      <th>Spain LIGA BBVA</th>\n",
       "      <th>FC Barcelona</th>\n",
       "      <td>29</td>\n",
       "      <td>4</td>\n",
       "      <td>5</td>\n",
       "      <td>112</td>\n",
       "      <td>29</td>\n",
       "      <td>91</td>\n",
       "      <td>83</td>\n",
       "    </tr>\n",
       "  </tbody>\n",
       "</table>\n",
       "</div>"
      ],
      "text/plain": [
       "                                             W  D  L   GF  GA  Pts  GD\n",
       "season    League_name     team_long_name_x                            \n",
       "2011/2012 Spain LIGA BBVA Real Madrid CF    32  4  2  121  32  100  89\n",
       "2014/2015 Spain LIGA BBVA Real Madrid CF    30  2  6  118  38   92  80\n",
       "2012/2013 Spain LIGA BBVA FC Barcelona      32  4  2  115  40  100  75\n",
       "2011/2012 Spain LIGA BBVA FC Barcelona      28  7  3  114  29   91  85\n",
       "2015/2016 Spain LIGA BBVA FC Barcelona      29  4  5  112  29   91  83"
      ]
     },
     "execution_count": 38,
     "metadata": {},
     "output_type": "execute_result"
    }
   ],
   "source": [
    "Team_data_all.sort_values(by='GF', ascending=False, na_position='first').head()"
   ]
  },
  {
   "cell_type": "markdown",
   "metadata": {},
   "source": [
    "2011-2012 Real Madrid 121 goals."
   ]
  },
  {
   "cell_type": "markdown",
   "metadata": {},
   "source": [
    "Is it true that team get more goals as a for team than against team?"
   ]
  },
  {
   "cell_type": "code",
   "execution_count": 39,
   "metadata": {},
   "outputs": [
    {
     "data": {
      "text/plain": [
       "home_team_goal     1.544594\n",
       "away_team_goal     1.160938\n",
       "home_team_score    1.630047\n",
       "away_team_score    1.116055\n",
       "W                  0.458717\n",
       "D                  0.253897\n",
       "L                  0.287386\n",
       "dtype: float64"
      ]
     },
     "execution_count": 39,
     "metadata": {},
     "output_type": "execute_result"
    }
   ],
   "source": [
    "temp_data = data\n",
    "temp_data.mean()"
   ]
  },
  {
   "cell_type": "code",
   "execution_count": 40,
   "metadata": {},
   "outputs": [
    {
     "data": {
      "text/html": [
       "<div>\n",
       "<style scoped>\n",
       "    .dataframe tbody tr th:only-of-type {\n",
       "        vertical-align: middle;\n",
       "    }\n",
       "\n",
       "    .dataframe tbody tr th {\n",
       "        vertical-align: top;\n",
       "    }\n",
       "\n",
       "    .dataframe thead th {\n",
       "        text-align: right;\n",
       "    }\n",
       "</style>\n",
       "<table border=\"1\" class=\"dataframe\">\n",
       "  <thead>\n",
       "    <tr style=\"text-align: right;\">\n",
       "      <th></th>\n",
       "      <th></th>\n",
       "      <th>home_team_goal</th>\n",
       "      <th>away_team_goal</th>\n",
       "      <th>home_team_score</th>\n",
       "      <th>away_team_score</th>\n",
       "      <th>W</th>\n",
       "      <th>D</th>\n",
       "      <th>L</th>\n",
       "    </tr>\n",
       "    <tr>\n",
       "      <th>season</th>\n",
       "      <th>League_name</th>\n",
       "      <th></th>\n",
       "      <th></th>\n",
       "      <th></th>\n",
       "      <th></th>\n",
       "      <th></th>\n",
       "      <th></th>\n",
       "      <th></th>\n",
       "    </tr>\n",
       "  </thead>\n",
       "  <tbody>\n",
       "    <tr>\n",
       "      <th rowspan=\"5\" valign=\"top\">2008/2009</th>\n",
       "      <th>Belgium Jupiler League</th>\n",
       "      <td>1.630719</td>\n",
       "      <td>1.163399</td>\n",
       "      <td>1.679739</td>\n",
       "      <td>1.101307</td>\n",
       "      <td>0.486928</td>\n",
       "      <td>0.218954</td>\n",
       "      <td>0.294118</td>\n",
       "    </tr>\n",
       "    <tr>\n",
       "      <th>England Premier League</th>\n",
       "      <td>1.400000</td>\n",
       "      <td>1.078947</td>\n",
       "      <td>1.621053</td>\n",
       "      <td>1.123684</td>\n",
       "      <td>0.455263</td>\n",
       "      <td>0.255263</td>\n",
       "      <td>0.289474</td>\n",
       "    </tr>\n",
       "    <tr>\n",
       "      <th>France Ligue 1</th>\n",
       "      <td>1.286842</td>\n",
       "      <td>0.971053</td>\n",
       "      <td>1.597368</td>\n",
       "      <td>1.107895</td>\n",
       "      <td>0.434211</td>\n",
       "      <td>0.294737</td>\n",
       "      <td>0.271053</td>\n",
       "    </tr>\n",
       "    <tr>\n",
       "      <th>Germany 1. Bundesliga</th>\n",
       "      <td>1.699346</td>\n",
       "      <td>1.222222</td>\n",
       "      <td>1.683007</td>\n",
       "      <td>1.075163</td>\n",
       "      <td>0.480392</td>\n",
       "      <td>0.241830</td>\n",
       "      <td>0.277778</td>\n",
       "    </tr>\n",
       "    <tr>\n",
       "      <th>Italy Serie A</th>\n",
       "      <td>1.521053</td>\n",
       "      <td>1.078947</td>\n",
       "      <td>1.765789</td>\n",
       "      <td>0.984211</td>\n",
       "      <td>0.505263</td>\n",
       "      <td>0.250000</td>\n",
       "      <td>0.244737</td>\n",
       "    </tr>\n",
       "    <tr>\n",
       "      <th>...</th>\n",
       "      <th>...</th>\n",
       "      <td>...</td>\n",
       "      <td>...</td>\n",
       "      <td>...</td>\n",
       "      <td>...</td>\n",
       "      <td>...</td>\n",
       "      <td>...</td>\n",
       "      <td>...</td>\n",
       "    </tr>\n",
       "    <tr>\n",
       "      <th rowspan=\"5\" valign=\"top\">2015/2016</th>\n",
       "      <th>Poland Ekstraklasa</th>\n",
       "      <td>1.420833</td>\n",
       "      <td>1.225000</td>\n",
       "      <td>1.445833</td>\n",
       "      <td>1.245833</td>\n",
       "      <td>0.379167</td>\n",
       "      <td>0.308333</td>\n",
       "      <td>0.312500</td>\n",
       "    </tr>\n",
       "    <tr>\n",
       "      <th>Portugal Liga ZON Sagres</th>\n",
       "      <td>1.513072</td>\n",
       "      <td>1.202614</td>\n",
       "      <td>1.552288</td>\n",
       "      <td>1.199346</td>\n",
       "      <td>0.434641</td>\n",
       "      <td>0.248366</td>\n",
       "      <td>0.316993</td>\n",
       "    </tr>\n",
       "    <tr>\n",
       "      <th>Scotland Premier League</th>\n",
       "      <td>1.504386</td>\n",
       "      <td>1.346491</td>\n",
       "      <td>1.451754</td>\n",
       "      <td>1.320175</td>\n",
       "      <td>0.407895</td>\n",
       "      <td>0.228070</td>\n",
       "      <td>0.364035</td>\n",
       "    </tr>\n",
       "    <tr>\n",
       "      <th>Spain LIGA BBVA</th>\n",
       "      <td>1.618421</td>\n",
       "      <td>1.126316</td>\n",
       "      <td>1.686842</td>\n",
       "      <td>1.071053</td>\n",
       "      <td>0.481579</td>\n",
       "      <td>0.242105</td>\n",
       "      <td>0.276316</td>\n",
       "    </tr>\n",
       "    <tr>\n",
       "      <th>Switzerland Super League</th>\n",
       "      <td>1.783333</td>\n",
       "      <td>1.361111</td>\n",
       "      <td>1.594444</td>\n",
       "      <td>1.144444</td>\n",
       "      <td>0.444444</td>\n",
       "      <td>0.261111</td>\n",
       "      <td>0.294444</td>\n",
       "    </tr>\n",
       "  </tbody>\n",
       "</table>\n",
       "<p>88 rows × 7 columns</p>\n",
       "</div>"
      ],
      "text/plain": [
       "                                    home_team_goal  away_team_goal  \\\n",
       "season    League_name                                                \n",
       "2008/2009 Belgium Jupiler League          1.630719        1.163399   \n",
       "          England Premier League          1.400000        1.078947   \n",
       "          France Ligue 1                  1.286842        0.971053   \n",
       "          Germany 1. Bundesliga           1.699346        1.222222   \n",
       "          Italy Serie A                   1.521053        1.078947   \n",
       "...                                            ...             ...   \n",
       "2015/2016 Poland Ekstraklasa              1.420833        1.225000   \n",
       "          Portugal Liga ZON Sagres        1.513072        1.202614   \n",
       "          Scotland Premier League         1.504386        1.346491   \n",
       "          Spain LIGA BBVA                 1.618421        1.126316   \n",
       "          Switzerland Super League        1.783333        1.361111   \n",
       "\n",
       "                                    home_team_score  away_team_score  \\\n",
       "season    League_name                                                  \n",
       "2008/2009 Belgium Jupiler League           1.679739         1.101307   \n",
       "          England Premier League           1.621053         1.123684   \n",
       "          France Ligue 1                   1.597368         1.107895   \n",
       "          Germany 1. Bundesliga            1.683007         1.075163   \n",
       "          Italy Serie A                    1.765789         0.984211   \n",
       "...                                             ...              ...   \n",
       "2015/2016 Poland Ekstraklasa               1.445833         1.245833   \n",
       "          Portugal Liga ZON Sagres         1.552288         1.199346   \n",
       "          Scotland Premier League          1.451754         1.320175   \n",
       "          Spain LIGA BBVA                  1.686842         1.071053   \n",
       "          Switzerland Super League         1.594444         1.144444   \n",
       "\n",
       "                                           W         D         L  \n",
       "season    League_name                                             \n",
       "2008/2009 Belgium Jupiler League    0.486928  0.218954  0.294118  \n",
       "          England Premier League    0.455263  0.255263  0.289474  \n",
       "          France Ligue 1            0.434211  0.294737  0.271053  \n",
       "          Germany 1. Bundesliga     0.480392  0.241830  0.277778  \n",
       "          Italy Serie A             0.505263  0.250000  0.244737  \n",
       "...                                      ...       ...       ...  \n",
       "2015/2016 Poland Ekstraklasa        0.379167  0.308333  0.312500  \n",
       "          Portugal Liga ZON Sagres  0.434641  0.248366  0.316993  \n",
       "          Scotland Premier League   0.407895  0.228070  0.364035  \n",
       "          Spain LIGA BBVA           0.481579  0.242105  0.276316  \n",
       "          Switzerland Super League  0.444444  0.261111  0.294444  \n",
       "\n",
       "[88 rows x 7 columns]"
      ]
     },
     "execution_count": 40,
     "metadata": {},
     "output_type": "execute_result"
    }
   ],
   "source": [
    "temp_data.groupby([\"season\", \"League_name\"]).mean()"
   ]
  },
  {
   "cell_type": "markdown",
   "metadata": {},
   "source": [
    "So it is true that team is more likely to win as a home team rather than an away team, with more average team goals in the match."
   ]
  },
  {
   "cell_type": "markdown",
   "metadata": {},
   "source": [
    "## From the athlete point of view"
   ]
  },
  {
   "cell_type": "markdown",
   "metadata": {},
   "source": [
    "Load the player data from the web"
   ]
  },
  {
   "cell_type": "code",
   "execution_count": 41,
   "metadata": {},
   "outputs": [
    {
     "data": {
      "text/html": [
       "<div>\n",
       "<style scoped>\n",
       "    .dataframe tbody tr th:only-of-type {\n",
       "        vertical-align: middle;\n",
       "    }\n",
       "\n",
       "    .dataframe tbody tr th {\n",
       "        vertical-align: top;\n",
       "    }\n",
       "\n",
       "    .dataframe thead th {\n",
       "        text-align: right;\n",
       "    }\n",
       "</style>\n",
       "<table border=\"1\" class=\"dataframe\">\n",
       "  <thead>\n",
       "    <tr style=\"text-align: right;\">\n",
       "      <th></th>\n",
       "      <th>min</th>\n",
       "      <th>max</th>\n",
       "    </tr>\n",
       "    <tr>\n",
       "      <th>season</th>\n",
       "      <th></th>\n",
       "      <th></th>\n",
       "    </tr>\n",
       "  </thead>\n",
       "  <tbody>\n",
       "    <tr>\n",
       "      <th>2008/2009</th>\n",
       "      <td>2008-07-18 00:00:00</td>\n",
       "      <td>2009-05-31 00:00:00</td>\n",
       "    </tr>\n",
       "    <tr>\n",
       "      <th>2009/2010</th>\n",
       "      <td>2009-07-11 00:00:00</td>\n",
       "      <td>2010-05-16 00:00:00</td>\n",
       "    </tr>\n",
       "    <tr>\n",
       "      <th>2010/2011</th>\n",
       "      <td>2010-07-17 00:00:00</td>\n",
       "      <td>2011-05-29 00:00:00</td>\n",
       "    </tr>\n",
       "    <tr>\n",
       "      <th>2011/2012</th>\n",
       "      <td>2011-07-16 00:00:00</td>\n",
       "      <td>2012-05-23 00:00:00</td>\n",
       "    </tr>\n",
       "    <tr>\n",
       "      <th>2012/2013</th>\n",
       "      <td>2012-07-13 00:00:00</td>\n",
       "      <td>2013-06-02 00:00:00</td>\n",
       "    </tr>\n",
       "    <tr>\n",
       "      <th>2013/2014</th>\n",
       "      <td>2013-07-13 00:00:00</td>\n",
       "      <td>2014-05-18 00:00:00</td>\n",
       "    </tr>\n",
       "    <tr>\n",
       "      <th>2014/2015</th>\n",
       "      <td>2014-07-18 00:00:00</td>\n",
       "      <td>2015-05-31 00:00:00</td>\n",
       "    </tr>\n",
       "    <tr>\n",
       "      <th>2015/2016</th>\n",
       "      <td>2015-07-17 00:00:00</td>\n",
       "      <td>2016-05-25 00:00:00</td>\n",
       "    </tr>\n",
       "  </tbody>\n",
       "</table>\n",
       "</div>"
      ],
      "text/plain": [
       "                           min                  max\n",
       "season                                             \n",
       "2008/2009  2008-07-18 00:00:00  2009-05-31 00:00:00\n",
       "2009/2010  2009-07-11 00:00:00  2010-05-16 00:00:00\n",
       "2010/2011  2010-07-17 00:00:00  2011-05-29 00:00:00\n",
       "2011/2012  2011-07-16 00:00:00  2012-05-23 00:00:00\n",
       "2012/2013  2012-07-13 00:00:00  2013-06-02 00:00:00\n",
       "2013/2014  2013-07-13 00:00:00  2014-05-18 00:00:00\n",
       "2014/2015  2014-07-18 00:00:00  2015-05-31 00:00:00\n",
       "2015/2016  2015-07-17 00:00:00  2016-05-25 00:00:00"
      ]
     },
     "execution_count": 41,
     "metadata": {},
     "output_type": "execute_result"
    }
   ],
   "source": [
    "Player = pd.read_sql(\"SELECT * FROM Player;\", database)\n",
    "Player_attributes = pd.read_sql(\"\"\"SELECT Player_attributes.player_api_id, Player_attributes.date, Player_attributes.overall_rating, Player_attributes.preferred_foot\n",
    "                        FROM Player_attributes;\"\"\", database)\n",
    "Match.groupby([\"season\"]).agg(['min', 'max'])[\"date\"]"
   ]
  },
  {
   "cell_type": "markdown",
   "metadata": {},
   "source": [
    "We regard July 1st as the beginning of a season."
   ]
  },
  {
   "cell_type": "code",
   "execution_count": 42,
   "metadata": {},
   "outputs": [],
   "source": [
    "def date_to_season(date):\n",
    "    if date[5:7] >= \"07\":\n",
    "        year = '%d-%d'%(int(date[0:4]), int(date[0:4])+1)\n",
    "    else:\n",
    "        year = '%d-%d'%(int(date[0:4])-1, int(date[0:4]))\n",
    "    return year"
   ]
  },
  {
   "cell_type": "code",
   "execution_count": 43,
   "metadata": {},
   "outputs": [
    {
     "data": {
      "text/html": [
       "<div>\n",
       "<style scoped>\n",
       "    .dataframe tbody tr th:only-of-type {\n",
       "        vertical-align: middle;\n",
       "    }\n",
       "\n",
       "    .dataframe tbody tr th {\n",
       "        vertical-align: top;\n",
       "    }\n",
       "\n",
       "    .dataframe thead th {\n",
       "        text-align: right;\n",
       "    }\n",
       "</style>\n",
       "<table border=\"1\" class=\"dataframe\">\n",
       "  <thead>\n",
       "    <tr style=\"text-align: right;\">\n",
       "      <th></th>\n",
       "      <th>player_api_id</th>\n",
       "      <th>date</th>\n",
       "      <th>overall_rating</th>\n",
       "      <th>preferred_foot</th>\n",
       "      <th>season</th>\n",
       "    </tr>\n",
       "  </thead>\n",
       "  <tbody>\n",
       "    <tr>\n",
       "      <th>0</th>\n",
       "      <td>505942</td>\n",
       "      <td>2016-02-18 00:00:00</td>\n",
       "      <td>67.0</td>\n",
       "      <td>right</td>\n",
       "      <td>2015-2016</td>\n",
       "    </tr>\n",
       "    <tr>\n",
       "      <th>1</th>\n",
       "      <td>505942</td>\n",
       "      <td>2015-11-19 00:00:00</td>\n",
       "      <td>67.0</td>\n",
       "      <td>right</td>\n",
       "      <td>2015-2016</td>\n",
       "    </tr>\n",
       "    <tr>\n",
       "      <th>2</th>\n",
       "      <td>505942</td>\n",
       "      <td>2015-09-21 00:00:00</td>\n",
       "      <td>62.0</td>\n",
       "      <td>right</td>\n",
       "      <td>2015-2016</td>\n",
       "    </tr>\n",
       "    <tr>\n",
       "      <th>3</th>\n",
       "      <td>505942</td>\n",
       "      <td>2015-03-20 00:00:00</td>\n",
       "      <td>61.0</td>\n",
       "      <td>right</td>\n",
       "      <td>2014-2015</td>\n",
       "    </tr>\n",
       "    <tr>\n",
       "      <th>4</th>\n",
       "      <td>505942</td>\n",
       "      <td>2007-02-22 00:00:00</td>\n",
       "      <td>61.0</td>\n",
       "      <td>right</td>\n",
       "      <td>2006-2007</td>\n",
       "    </tr>\n",
       "  </tbody>\n",
       "</table>\n",
       "</div>"
      ],
      "text/plain": [
       "   player_api_id                 date  overall_rating preferred_foot  \\\n",
       "0         505942  2016-02-18 00:00:00            67.0          right   \n",
       "1         505942  2015-11-19 00:00:00            67.0          right   \n",
       "2         505942  2015-09-21 00:00:00            62.0          right   \n",
       "3         505942  2015-03-20 00:00:00            61.0          right   \n",
       "4         505942  2007-02-22 00:00:00            61.0          right   \n",
       "\n",
       "      season  \n",
       "0  2015-2016  \n",
       "1  2015-2016  \n",
       "2  2015-2016  \n",
       "3  2014-2015  \n",
       "4  2006-2007  "
      ]
     },
     "execution_count": 43,
     "metadata": {},
     "output_type": "execute_result"
    }
   ],
   "source": [
    "Player_attributes['season'] = Player_attributes['date'].map(date_to_season)\n",
    "Player_attributes.head()"
   ]
  },
  {
   "cell_type": "code",
   "execution_count": 44,
   "metadata": {},
   "outputs": [
    {
     "data": {
      "text/html": [
       "<div>\n",
       "<style scoped>\n",
       "    .dataframe tbody tr th:only-of-type {\n",
       "        vertical-align: middle;\n",
       "    }\n",
       "\n",
       "    .dataframe tbody tr th {\n",
       "        vertical-align: top;\n",
       "    }\n",
       "\n",
       "    .dataframe thead th {\n",
       "        text-align: right;\n",
       "    }\n",
       "</style>\n",
       "<table border=\"1\" class=\"dataframe\">\n",
       "  <thead>\n",
       "    <tr style=\"text-align: right;\">\n",
       "      <th></th>\n",
       "      <th>id</th>\n",
       "      <th>player_api_id</th>\n",
       "      <th>player_name</th>\n",
       "      <th>player_fifa_api_id</th>\n",
       "      <th>birthday</th>\n",
       "      <th>height</th>\n",
       "      <th>weight</th>\n",
       "      <th>date</th>\n",
       "      <th>overall_rating</th>\n",
       "      <th>preferred_foot</th>\n",
       "      <th>season</th>\n",
       "    </tr>\n",
       "  </thead>\n",
       "  <tbody>\n",
       "    <tr>\n",
       "      <th>0</th>\n",
       "      <td>1</td>\n",
       "      <td>505942</td>\n",
       "      <td>Aaron Appindangoye</td>\n",
       "      <td>218353</td>\n",
       "      <td>1992-02-29 00:00:00</td>\n",
       "      <td>182.88</td>\n",
       "      <td>187</td>\n",
       "      <td>2016-02-18 00:00:00</td>\n",
       "      <td>67.0</td>\n",
       "      <td>right</td>\n",
       "      <td>2015-2016</td>\n",
       "    </tr>\n",
       "    <tr>\n",
       "      <th>1</th>\n",
       "      <td>1</td>\n",
       "      <td>505942</td>\n",
       "      <td>Aaron Appindangoye</td>\n",
       "      <td>218353</td>\n",
       "      <td>1992-02-29 00:00:00</td>\n",
       "      <td>182.88</td>\n",
       "      <td>187</td>\n",
       "      <td>2015-11-19 00:00:00</td>\n",
       "      <td>67.0</td>\n",
       "      <td>right</td>\n",
       "      <td>2015-2016</td>\n",
       "    </tr>\n",
       "    <tr>\n",
       "      <th>2</th>\n",
       "      <td>1</td>\n",
       "      <td>505942</td>\n",
       "      <td>Aaron Appindangoye</td>\n",
       "      <td>218353</td>\n",
       "      <td>1992-02-29 00:00:00</td>\n",
       "      <td>182.88</td>\n",
       "      <td>187</td>\n",
       "      <td>2015-09-21 00:00:00</td>\n",
       "      <td>62.0</td>\n",
       "      <td>right</td>\n",
       "      <td>2015-2016</td>\n",
       "    </tr>\n",
       "    <tr>\n",
       "      <th>3</th>\n",
       "      <td>1</td>\n",
       "      <td>505942</td>\n",
       "      <td>Aaron Appindangoye</td>\n",
       "      <td>218353</td>\n",
       "      <td>1992-02-29 00:00:00</td>\n",
       "      <td>182.88</td>\n",
       "      <td>187</td>\n",
       "      <td>2015-03-20 00:00:00</td>\n",
       "      <td>61.0</td>\n",
       "      <td>right</td>\n",
       "      <td>2014-2015</td>\n",
       "    </tr>\n",
       "    <tr>\n",
       "      <th>4</th>\n",
       "      <td>1</td>\n",
       "      <td>505942</td>\n",
       "      <td>Aaron Appindangoye</td>\n",
       "      <td>218353</td>\n",
       "      <td>1992-02-29 00:00:00</td>\n",
       "      <td>182.88</td>\n",
       "      <td>187</td>\n",
       "      <td>2007-02-22 00:00:00</td>\n",
       "      <td>61.0</td>\n",
       "      <td>right</td>\n",
       "      <td>2006-2007</td>\n",
       "    </tr>\n",
       "  </tbody>\n",
       "</table>\n",
       "</div>"
      ],
      "text/plain": [
       "   id  player_api_id         player_name  player_fifa_api_id  \\\n",
       "0   1         505942  Aaron Appindangoye              218353   \n",
       "1   1         505942  Aaron Appindangoye              218353   \n",
       "2   1         505942  Aaron Appindangoye              218353   \n",
       "3   1         505942  Aaron Appindangoye              218353   \n",
       "4   1         505942  Aaron Appindangoye              218353   \n",
       "\n",
       "              birthday  height  weight                 date  overall_rating  \\\n",
       "0  1992-02-29 00:00:00  182.88     187  2016-02-18 00:00:00            67.0   \n",
       "1  1992-02-29 00:00:00  182.88     187  2015-11-19 00:00:00            67.0   \n",
       "2  1992-02-29 00:00:00  182.88     187  2015-09-21 00:00:00            62.0   \n",
       "3  1992-02-29 00:00:00  182.88     187  2015-03-20 00:00:00            61.0   \n",
       "4  1992-02-29 00:00:00  182.88     187  2007-02-22 00:00:00            61.0   \n",
       "\n",
       "  preferred_foot     season  \n",
       "0          right  2015-2016  \n",
       "1          right  2015-2016  \n",
       "2          right  2015-2016  \n",
       "3          right  2014-2015  \n",
       "4          right  2006-2007  "
      ]
     },
     "execution_count": 44,
     "metadata": {},
     "output_type": "execute_result"
    }
   ],
   "source": [
    "Player_data = pd.merge(Player, Player_attributes, left_on='player_api_id', right_on='player_api_id')\n",
    "Player_data.head()"
   ]
  },
  {
   "cell_type": "markdown",
   "metadata": {},
   "source": [
    "Calculate the age of player"
   ]
  },
  {
   "cell_type": "code",
   "execution_count": 45,
   "metadata": {},
   "outputs": [],
   "source": [
    "def birthday_to_age(birthday, season):\n",
    "    if birthday[5:7] >= \"07\":\n",
    "        age = int(season[0:4])-int(birthday[0:4])-1\n",
    "    else:\n",
    "        age = int(season[0:4])-int(birthday[0:4])\n",
    "    return age"
   ]
  },
  {
   "cell_type": "markdown",
   "metadata": {},
   "source": [
    "Turn preferred_foot to numerics"
   ]
  },
  {
   "cell_type": "code",
   "execution_count": 46,
   "metadata": {},
   "outputs": [],
   "source": [
    "def preferred_foot_to_number(preferred_foot):\n",
    "    if preferred_foot == \"right\":\n",
    "        return 1\n",
    "    elif preferred_foot == \"left\":\n",
    "        return -1\n",
    "    else:\n",
    "        return 0"
   ]
  },
  {
   "cell_type": "code",
   "execution_count": 47,
   "metadata": {},
   "outputs": [
    {
     "data": {
      "text/html": [
       "<div>\n",
       "<style scoped>\n",
       "    .dataframe tbody tr th:only-of-type {\n",
       "        vertical-align: middle;\n",
       "    }\n",
       "\n",
       "    .dataframe tbody tr th {\n",
       "        vertical-align: top;\n",
       "    }\n",
       "\n",
       "    .dataframe thead th {\n",
       "        text-align: right;\n",
       "    }\n",
       "</style>\n",
       "<table border=\"1\" class=\"dataframe\">\n",
       "  <thead>\n",
       "    <tr style=\"text-align: right;\">\n",
       "      <th></th>\n",
       "      <th>player_name</th>\n",
       "      <th>season</th>\n",
       "      <th>player_api_id</th>\n",
       "      <th>height</th>\n",
       "      <th>weight</th>\n",
       "      <th>overall_rating</th>\n",
       "      <th>age</th>\n",
       "      <th>preferred_foot_</th>\n",
       "    </tr>\n",
       "  </thead>\n",
       "  <tbody>\n",
       "    <tr>\n",
       "      <th>0</th>\n",
       "      <td>Aaron Appindangoye</td>\n",
       "      <td>2006-2007</td>\n",
       "      <td>505942.0</td>\n",
       "      <td>182.88</td>\n",
       "      <td>187.0</td>\n",
       "      <td>61.000000</td>\n",
       "      <td>14.0</td>\n",
       "      <td>1.0</td>\n",
       "    </tr>\n",
       "    <tr>\n",
       "      <th>1</th>\n",
       "      <td>Aaron Appindangoye</td>\n",
       "      <td>2014-2015</td>\n",
       "      <td>505942.0</td>\n",
       "      <td>182.88</td>\n",
       "      <td>187.0</td>\n",
       "      <td>61.000000</td>\n",
       "      <td>22.0</td>\n",
       "      <td>1.0</td>\n",
       "    </tr>\n",
       "    <tr>\n",
       "      <th>2</th>\n",
       "      <td>Aaron Appindangoye</td>\n",
       "      <td>2015-2016</td>\n",
       "      <td>505942.0</td>\n",
       "      <td>182.88</td>\n",
       "      <td>187.0</td>\n",
       "      <td>65.333333</td>\n",
       "      <td>23.0</td>\n",
       "      <td>1.0</td>\n",
       "    </tr>\n",
       "    <tr>\n",
       "      <th>3</th>\n",
       "      <td>Aaron Cresswell</td>\n",
       "      <td>2006-2007</td>\n",
       "      <td>155782.0</td>\n",
       "      <td>170.18</td>\n",
       "      <td>146.0</td>\n",
       "      <td>53.000000</td>\n",
       "      <td>16.0</td>\n",
       "      <td>1.0</td>\n",
       "    </tr>\n",
       "    <tr>\n",
       "      <th>4</th>\n",
       "      <td>Aaron Cresswell</td>\n",
       "      <td>2008-2009</td>\n",
       "      <td>155782.0</td>\n",
       "      <td>170.18</td>\n",
       "      <td>146.0</td>\n",
       "      <td>50.000000</td>\n",
       "      <td>18.0</td>\n",
       "      <td>0.0</td>\n",
       "    </tr>\n",
       "  </tbody>\n",
       "</table>\n",
       "</div>"
      ],
      "text/plain": [
       "          player_name     season  player_api_id  height  weight  \\\n",
       "0  Aaron Appindangoye  2006-2007       505942.0  182.88   187.0   \n",
       "1  Aaron Appindangoye  2014-2015       505942.0  182.88   187.0   \n",
       "2  Aaron Appindangoye  2015-2016       505942.0  182.88   187.0   \n",
       "3     Aaron Cresswell  2006-2007       155782.0  170.18   146.0   \n",
       "4     Aaron Cresswell  2008-2009       155782.0  170.18   146.0   \n",
       "\n",
       "   overall_rating   age  preferred_foot_  \n",
       "0       61.000000  14.0              1.0  \n",
       "1       61.000000  22.0              1.0  \n",
       "2       65.333333  23.0              1.0  \n",
       "3       53.000000  16.0              1.0  \n",
       "4       50.000000  18.0              0.0  "
      ]
     },
     "execution_count": 47,
     "metadata": {},
     "output_type": "execute_result"
    }
   ],
   "source": [
    "Player_data['age'] = list(map(birthday_to_age, Player_data['birthday'], Player_data['season']))\n",
    "Player_data['preferred_foot_'] = Player_data['preferred_foot'].map(preferred_foot_to_number)\n",
    "Player_data = Player_data.iloc[:, [1, 2, 10, 5, 6, 8, 11, 12]]\n",
    "Player_data = Player_data.groupby([\"player_name\", \"season\"]).mean().reset_index()\n",
    "Player_data.head()"
   ]
  },
  {
   "cell_type": "markdown",
   "metadata": {},
   "source": [
    "Explore the physical features of players"
   ]
  },
  {
   "cell_type": "code",
   "execution_count": 48,
   "metadata": {},
   "outputs": [
    {
     "data": {
      "text/html": [
       "<div>\n",
       "<style scoped>\n",
       "    .dataframe tbody tr th:only-of-type {\n",
       "        vertical-align: middle;\n",
       "    }\n",
       "\n",
       "    .dataframe tbody tr th {\n",
       "        vertical-align: top;\n",
       "    }\n",
       "\n",
       "    .dataframe thead th {\n",
       "        text-align: right;\n",
       "    }\n",
       "</style>\n",
       "<table border=\"1\" class=\"dataframe\">\n",
       "  <thead>\n",
       "    <tr style=\"text-align: right;\">\n",
       "      <th></th>\n",
       "      <th>height</th>\n",
       "      <th>weight</th>\n",
       "      <th>age</th>\n",
       "      <th>preferred_foot_</th>\n",
       "    </tr>\n",
       "    <tr>\n",
       "      <th>player_name</th>\n",
       "      <th></th>\n",
       "      <th></th>\n",
       "      <th></th>\n",
       "      <th></th>\n",
       "    </tr>\n",
       "  </thead>\n",
       "  <tbody>\n",
       "    <tr>\n",
       "      <th>Aaron Appindangoye</th>\n",
       "      <td>182.88</td>\n",
       "      <td>187.0</td>\n",
       "      <td>19.666667</td>\n",
       "      <td>1.000000</td>\n",
       "    </tr>\n",
       "    <tr>\n",
       "      <th>Aaron Cresswell</th>\n",
       "      <td>170.18</td>\n",
       "      <td>146.0</td>\n",
       "      <td>20.888889</td>\n",
       "      <td>-0.666667</td>\n",
       "    </tr>\n",
       "    <tr>\n",
       "      <th>Aaron Doran</th>\n",
       "      <td>170.18</td>\n",
       "      <td>163.0</td>\n",
       "      <td>19.888889</td>\n",
       "      <td>1.000000</td>\n",
       "    </tr>\n",
       "    <tr>\n",
       "      <th>Aaron Galindo</th>\n",
       "      <td>182.88</td>\n",
       "      <td>198.0</td>\n",
       "      <td>28.555556</td>\n",
       "      <td>1.000000</td>\n",
       "    </tr>\n",
       "    <tr>\n",
       "      <th>Aaron Hughes</th>\n",
       "      <td>182.88</td>\n",
       "      <td>154.0</td>\n",
       "      <td>30.500000</td>\n",
       "      <td>1.000000</td>\n",
       "    </tr>\n",
       "  </tbody>\n",
       "</table>\n",
       "</div>"
      ],
      "text/plain": [
       "                    height  weight        age  preferred_foot_\n",
       "player_name                                                   \n",
       "Aaron Appindangoye  182.88   187.0  19.666667         1.000000\n",
       "Aaron Cresswell     170.18   146.0  20.888889        -0.666667\n",
       "Aaron Doran         170.18   163.0  19.888889         1.000000\n",
       "Aaron Galindo       182.88   198.0  28.555556         1.000000\n",
       "Aaron Hughes        182.88   154.0  30.500000         1.000000"
      ]
     },
     "execution_count": 48,
     "metadata": {},
     "output_type": "execute_result"
    }
   ],
   "source": [
    "Player_physics = Player_data.groupby('player_name').agg('mean')[['height','weight','age','preferred_foot_']]\n",
    "Player_physics.head()"
   ]
  },
  {
   "cell_type": "markdown",
   "metadata": {},
   "source": [
    "We find the preferred foot can be a value other than 1 and -1."
   ]
  },
  {
   "cell_type": "code",
   "execution_count": 49,
   "metadata": {},
   "outputs": [
    {
     "data": {
      "text/plain": [
       "['right', 'left', None]"
      ]
     },
     "execution_count": 49,
     "metadata": {},
     "output_type": "execute_result"
    }
   ],
   "source": [
    "Player_attributes['preferred_foot'].unique().tolist()"
   ]
  },
  {
   "cell_type": "markdown",
   "metadata": {},
   "source": [
    "It's due to the missing data.\\\n",
    "Then we can get the proportion of left and right foot."
   ]
  },
  {
   "cell_type": "code",
   "execution_count": 50,
   "metadata": {},
   "outputs": [
    {
     "data": {
      "text/plain": [
       "0.7574668141592921"
      ]
     },
     "execution_count": 50,
     "metadata": {},
     "output_type": "execute_result"
    }
   ],
   "source": [
    "len(Player_physics[Player_physics['preferred_foot_']>0])/len(Player_physics)"
   ]
  },
  {
   "cell_type": "code",
   "execution_count": 51,
   "metadata": {},
   "outputs": [
    {
     "data": {
      "text/plain": [
       "0.2353429203539823"
      ]
     },
     "execution_count": 51,
     "metadata": {},
     "output_type": "execute_result"
    }
   ],
   "source": [
    "len(Player_physics[Player_physics['preferred_foot_']<0])/len(Player_physics)"
   ]
  },
  {
   "cell_type": "markdown",
   "metadata": {},
   "source": [
    "About 75.7% of the players prefer to play with the right foot and 23.5% play with the right one."
   ]
  },
  {
   "cell_type": "code",
   "execution_count": 52,
   "metadata": {},
   "outputs": [
    {
     "data": {
      "text/plain": [
       "height    181.868242\n",
       "weight    168.375136\n",
       "dtype: float64"
      ]
     },
     "execution_count": 52,
     "metadata": {},
     "output_type": "execute_result"
    }
   ],
   "source": [
    "Player_physics[['height','weight']].mean()"
   ]
  },
  {
   "cell_type": "code",
   "execution_count": 53,
   "metadata": {},
   "outputs": [
    {
     "data": {
      "text/html": [
       "<div>\n",
       "<style scoped>\n",
       "    .dataframe tbody tr th:only-of-type {\n",
       "        vertical-align: middle;\n",
       "    }\n",
       "\n",
       "    .dataframe tbody tr th {\n",
       "        vertical-align: top;\n",
       "    }\n",
       "\n",
       "    .dataframe thead th {\n",
       "        text-align: right;\n",
       "    }\n",
       "</style>\n",
       "<table border=\"1\" class=\"dataframe\">\n",
       "  <thead>\n",
       "    <tr style=\"text-align: right;\">\n",
       "      <th></th>\n",
       "      <th>age</th>\n",
       "    </tr>\n",
       "    <tr>\n",
       "      <th>season</th>\n",
       "      <th></th>\n",
       "    </tr>\n",
       "  </thead>\n",
       "  <tbody>\n",
       "    <tr>\n",
       "      <th>2006-2007</th>\n",
       "      <td>18.909841</td>\n",
       "    </tr>\n",
       "    <tr>\n",
       "      <th>2007-2008</th>\n",
       "      <td>24.420515</td>\n",
       "    </tr>\n",
       "    <tr>\n",
       "      <th>2008-2009</th>\n",
       "      <td>24.313233</td>\n",
       "    </tr>\n",
       "    <tr>\n",
       "      <th>2009-2010</th>\n",
       "      <td>24.546491</td>\n",
       "    </tr>\n",
       "    <tr>\n",
       "      <th>2010-2011</th>\n",
       "      <td>24.754360</td>\n",
       "    </tr>\n",
       "    <tr>\n",
       "      <th>2011-2012</th>\n",
       "      <td>24.883998</td>\n",
       "    </tr>\n",
       "    <tr>\n",
       "      <th>2012-2013</th>\n",
       "      <td>24.986344</td>\n",
       "    </tr>\n",
       "    <tr>\n",
       "      <th>2013-2014</th>\n",
       "      <td>25.287089</td>\n",
       "    </tr>\n",
       "    <tr>\n",
       "      <th>2014-2015</th>\n",
       "      <td>25.558388</td>\n",
       "    </tr>\n",
       "    <tr>\n",
       "      <th>2015-2016</th>\n",
       "      <td>25.964507</td>\n",
       "    </tr>\n",
       "    <tr>\n",
       "      <th>2016-2017</th>\n",
       "      <td>22.666667</td>\n",
       "    </tr>\n",
       "  </tbody>\n",
       "</table>\n",
       "</div>"
      ],
      "text/plain": [
       "                 age\n",
       "season              \n",
       "2006-2007  18.909841\n",
       "2007-2008  24.420515\n",
       "2008-2009  24.313233\n",
       "2009-2010  24.546491\n",
       "2010-2011  24.754360\n",
       "2011-2012  24.883998\n",
       "2012-2013  24.986344\n",
       "2013-2014  25.287089\n",
       "2014-2015  25.558388\n",
       "2015-2016  25.964507\n",
       "2016-2017  22.666667"
      ]
     },
     "execution_count": 53,
     "metadata": {},
     "output_type": "execute_result"
    }
   ],
   "source": [
    "Player_data.groupby('season').agg('mean')[['age']]"
   ]
  },
  {
   "cell_type": "markdown",
   "metadata": {},
   "source": [
    "For all players, the average height is 181.87cm and average weight 168.38g. The average age in their participating seasons is about 25 and remains almost the same over time."
   ]
  },
  {
   "cell_type": "code",
   "execution_count": 54,
   "metadata": {},
   "outputs": [
    {
     "data": {
      "text/plain": [
       "94.0"
      ]
     },
     "execution_count": 54,
     "metadata": {},
     "output_type": "execute_result"
    }
   ],
   "source": [
    "Player_data['overall_rating'].max()"
   ]
  },
  {
   "cell_type": "code",
   "execution_count": 55,
   "metadata": {},
   "outputs": [
    {
     "data": {
      "text/html": [
       "<div>\n",
       "<style scoped>\n",
       "    .dataframe tbody tr th:only-of-type {\n",
       "        vertical-align: middle;\n",
       "    }\n",
       "\n",
       "    .dataframe tbody tr th {\n",
       "        vertical-align: top;\n",
       "    }\n",
       "\n",
       "    .dataframe thead th {\n",
       "        text-align: right;\n",
       "    }\n",
       "</style>\n",
       "<table border=\"1\" class=\"dataframe\">\n",
       "  <thead>\n",
       "    <tr style=\"text-align: right;\">\n",
       "      <th></th>\n",
       "      <th>player_name</th>\n",
       "      <th>season</th>\n",
       "      <th>player_api_id</th>\n",
       "      <th>height</th>\n",
       "      <th>weight</th>\n",
       "      <th>overall_rating</th>\n",
       "      <th>age</th>\n",
       "      <th>preferred_foot_</th>\n",
       "    </tr>\n",
       "  </thead>\n",
       "  <tbody>\n",
       "    <tr>\n",
       "      <th>38693</th>\n",
       "      <td>Lionel Messi</td>\n",
       "      <td>2011-2012</td>\n",
       "      <td>30981.0</td>\n",
       "      <td>170.18</td>\n",
       "      <td>159.0</td>\n",
       "      <td>94.0</td>\n",
       "      <td>24.0</td>\n",
       "      <td>-1.0</td>\n",
       "    </tr>\n",
       "    <tr>\n",
       "      <th>38694</th>\n",
       "      <td>Lionel Messi</td>\n",
       "      <td>2012-2013</td>\n",
       "      <td>30981.0</td>\n",
       "      <td>170.18</td>\n",
       "      <td>159.0</td>\n",
       "      <td>94.0</td>\n",
       "      <td>25.0</td>\n",
       "      <td>-1.0</td>\n",
       "    </tr>\n",
       "    <tr>\n",
       "      <th>38695</th>\n",
       "      <td>Lionel Messi</td>\n",
       "      <td>2013-2014</td>\n",
       "      <td>30981.0</td>\n",
       "      <td>170.18</td>\n",
       "      <td>159.0</td>\n",
       "      <td>94.0</td>\n",
       "      <td>26.0</td>\n",
       "      <td>-1.0</td>\n",
       "    </tr>\n",
       "    <tr>\n",
       "      <th>38697</th>\n",
       "      <td>Lionel Messi</td>\n",
       "      <td>2015-2016</td>\n",
       "      <td>30981.0</td>\n",
       "      <td>170.18</td>\n",
       "      <td>159.0</td>\n",
       "      <td>94.0</td>\n",
       "      <td>28.0</td>\n",
       "      <td>-1.0</td>\n",
       "    </tr>\n",
       "  </tbody>\n",
       "</table>\n",
       "</div>"
      ],
      "text/plain": [
       "        player_name     season  player_api_id  height  weight  overall_rating  \\\n",
       "38693  Lionel Messi  2011-2012        30981.0  170.18   159.0            94.0   \n",
       "38694  Lionel Messi  2012-2013        30981.0  170.18   159.0            94.0   \n",
       "38695  Lionel Messi  2013-2014        30981.0  170.18   159.0            94.0   \n",
       "38697  Lionel Messi  2015-2016        30981.0  170.18   159.0            94.0   \n",
       "\n",
       "        age  preferred_foot_  \n",
       "38693  24.0             -1.0  \n",
       "38694  25.0             -1.0  \n",
       "38695  26.0             -1.0  \n",
       "38697  28.0             -1.0  "
      ]
     },
     "execution_count": 55,
     "metadata": {},
     "output_type": "execute_result"
    }
   ],
   "source": [
    "Player_data[Player_data['overall_rating']==94]"
   ]
  },
  {
   "cell_type": "markdown",
   "metadata": {},
   "source": [
    "Lionel Messi has the highest overall rating , which is 94, and has kept it for four seasons."
   ]
  },
  {
   "cell_type": "code",
   "execution_count": null,
   "metadata": {},
   "outputs": [],
   "source": []
  }
 ],
 "metadata": {
  "kernelspec": {
   "display_name": "Python 3",
   "language": "python",
   "name": "python3"
  },
  "language_info": {
   "codemirror_mode": {
    "name": "ipython",
    "version": 3
   },
   "file_extension": ".py",
   "mimetype": "text/x-python",
   "name": "python",
   "nbconvert_exporter": "python",
   "pygments_lexer": "ipython3",
   "version": "3.8.3"
  }
 },
 "nbformat": 4,
 "nbformat_minor": 4
}
